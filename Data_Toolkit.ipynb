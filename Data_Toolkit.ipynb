{
  "nbformat": 4,
  "nbformat_minor": 0,
  "metadata": {
    "colab": {
      "provenance": []
    },
    "kernelspec": {
      "name": "python3",
      "display_name": "Python 3"
    },
    "language_info": {
      "name": "python"
    }
  },
  "cells": [
    {
      "cell_type": "markdown",
      "source": [
        "Q1 - What is NumPy, and why is it widely used in Python?"
      ],
      "metadata": {
        "id": "V99HCmxZ0RF1"
      }
    },
    {
      "cell_type": "markdown",
      "source": [
        "Ans 1 - NumPy (Numerical Python) is a powerful library in Python primarily used for numerical and scientific computing. It provides support for large, multi-dimensional arrays and matrices, along with a collection of high-level mathematical functions to operate on these arrays.\n",
        "\n",
        "Here are some reasons why NumPy is widely used in Python:\n",
        "\n",
        "1. Efficient Array Operations\n",
        "\n",
        "2. Multidimensional Arrays\n",
        "\n",
        "3. Mathematical Functions\n",
        "\n",
        "4. Vectorization\n",
        "\n",
        "5. Broadcasting\n",
        "\n",
        "6. Interoperability\n",
        "\n",
        "7. Memory Efficiency\n",
        "\n",
        "8. Support for Random Number Generation\n",
        "\n",
        "9. Widely Adopted in Data Science and Machine Learning\n",
        "\n",
        "computing in Python.\n",
        "Overall, NumPy is essential for tasks that involve large-scale numerical data manipulation, making it a cornerstone of scientific computing, machine learning, and data analysis in Python."
      ],
      "metadata": {
        "id": "78lpU4DF0VbA"
      }
    },
    {
      "cell_type": "markdown",
      "source": [
        "Q2 - How does broadcasting work in NumPy?"
      ],
      "metadata": {
        "id": "PNtxRuBW11JU"
      }
    },
    {
      "cell_type": "markdown",
      "source": [
        "Ans 2 - Broadcasting in NumPy refers to the ability to perform element-wise operations on arrays of different shapes, without explicitly reshaping the arrays. NumPy automatically \"broadcasts\" smaller arrays to match the shape of larger arrays during arithmetic operations. It simplifies the process of working with arrays of different dimensions, enabling efficient computations.\n",
        "\n",
        "The basic concept of broadcasting is:\n",
        "\n",
        "Broadcasting allows NumPy to apply operations between arrays of different shapes.\n",
        "\n",
        "For broadcasting to work, certain rules must be followed for the dimensions of the arrays involved.\n",
        "\n",
        "The broadcasting rules:\n",
        "\n",
        "If the arrays have a different number of dimensions, pad the smaller-dimensional array’s shape with ones on the left until both shapes have the same length.\n",
        "\n",
        "Arrays are compatible when in each dimension the size of one array is either the same as the size of the other array or one of them is 1.\n",
        "\n",
        "If this is true for every dimension, NumPy will \"broadcast\" the smaller array to match the larger one in that dimension."
      ],
      "metadata": {
        "id": "rkz5zdzF13BH"
      }
    },
    {
      "cell_type": "markdown",
      "source": [
        "Q3 - What is a Pandas DataFrame?"
      ],
      "metadata": {
        "id": "pysaI8tB2wuM"
      }
    },
    {
      "cell_type": "markdown",
      "source": [
        "Ans 3 - A Pandas DataFrame is a two-dimensional, size-mutable, and potentially heterogeneous tabular data structure with labeled axes (rows and columns).\n",
        "\n",
        "It is one of the most widely used data structures in the Pandas library, which is a popular Python library for data analysis and manipulation.\n",
        "\n",
        "Key Features of a DataFrame:\n",
        "\n",
        "Rows and Columns: The data in a DataFrame is arranged in rows and columns, similar to a table or a spreadsheet.\n",
        "\n",
        "Labeled Axes: The rows and columns can have custom labels (index for rows and column names for columns).\n",
        "\n",
        "Heterogeneous Data: A DataFrame can hold different data types in different columns (e.g., integers, floats, strings, etc.).\n",
        "\n",
        "Size-Mutable: You can add or remove rows and columns from a DataFrame.\n",
        "Alignment: DataFrames allow for automatic alignment of data when performing operations."
      ],
      "metadata": {
        "id": "9FuzcrQf3DLt"
      }
    },
    {
      "cell_type": "markdown",
      "source": [
        "Q4 - Explain the use of the groupby() method in Pandas?"
      ],
      "metadata": {
        "id": "C_ZSNNb6D21n"
      }
    },
    {
      "cell_type": "markdown",
      "source": [
        "Ans 4 - The groupby() method in Pandas is a powerful tool for splitting data into groups, applying functions to these groups, and then combining the results. It's commonly used to perform aggregations, transformations, and other operations on data that is grouped by a particular feature or set of features.\n",
        "\n",
        "Here's how the groupby() method works conceptually:\n",
        "\n",
        "Splitting: The data is split into groups based on one or more columns. Each group represents a subset of the data that shares the same value in the column(s) used for grouping.\n",
        "\n",
        "Applying: A function (like sum, mean, or custom functions) is applied to each group individually. This could involve aggregating the data, transforming it, or applying more complex functions.\n",
        "\n",
        "Combining: The results of the applied function are combined back into a single DataFrame or Series, often with the group labels as the index."
      ],
      "metadata": {
        "id": "5Dv5Q24CD9nv"
      }
    },
    {
      "cell_type": "markdown",
      "source": [
        "Q5 - Why is Seaborn preferred for statistical visualizations?"
      ],
      "metadata": {
        "id": "vlQDWSY9EaQq"
      }
    },
    {
      "cell_type": "markdown",
      "source": [
        "Ans 5 - Seaborn is often preferred for statistical visualizations due to several key reasons that make it a powerful tool for data exploration and analysis:\n",
        "\n",
        "Built on Matplotlib: Seaborn is built on top of Matplotlib, so it integrates seamlessly with it. It leverages Matplotlib's capabilities but provides a higher-level interface to make it easier to create complex plots with less code.\n",
        "\n",
        "Built-in statistical functions: Seaborn has many built-in functions to easily create statistical plots such as regression plots, box plots, violin plots, pair plots, and heatmaps. These plots automatically calculate statistics like means, medians, and confidence intervals, so users don't need to manually compute them.\n",
        "\n",
        "Automatic handling of categorical data: Seaborn makes it easy to plot categorical variables (e.g., box plots, bar plots) and automatically handles various aspects like grouping, color coding, and axis labeling.\n",
        "\n",
        "Great for multi-plot grids: Seaborn's FacetGrid and PairGrid functions allow users to easily create complex multi-plot grids for visualizing relationships between multiple variables.\n",
        "\n",
        "Attractive default styles: Seaborn comes with more aesthetically pleasing and consistent default visual styles, reducing the need for customization and improving the readability of visualizations.\n",
        "\n",
        "Ease of customization: While Seaborn has attractive default styles, it is still highly customizable, allowing users to fine-tune plots for specific needs, such as adjusting colors, adding annotations, or modifying axis properties.\n",
        "\n",
        "Works well with Pandas DataFrames: Seaborn is designed to work seamlessly with Pandas DataFrames, making it easy to visualize data stored in them directly without needing to manually reshape the data.\n",
        "\n",
        "Handles missing data gracefully: Seaborn handles missing data more smoothly compared to Matplotlib, making it easier to visualize datasets with missing values.\n",
        "\n",
        "Comprehensive range of plot types: Seaborn supports a wide variety of statistical plot types, from simple line plots to more advanced visualizations like heatmaps and pairwise relationships, which are essential for statistical analysis.\n",
        "\n",
        "Due to these advantages, Seaborn provides a user-friendly and effective way to generate statistical visualizations, which is why it's preferred by many data scientists and analysts."
      ],
      "metadata": {
        "id": "D03qfIeLE0lJ"
      }
    },
    {
      "cell_type": "markdown",
      "source": [
        "Q6 - What are the differences between NumPy arrays and Python lists?"
      ],
      "metadata": {
        "id": "0dxnh1P6E3nc"
      }
    },
    {
      "cell_type": "markdown",
      "source": [
        "Ans 6 - Here are the key differences between NumPy arrays and Python lists:\n",
        "\n",
        "1. Type of Elements\n",
        "\n",
        "NumPy arrays: All elements must be of the same data type (e.g., all integers, all floats, etc.). This allows NumPy to optimize performance.\n",
        "\n",
        "Python lists: Can store elements of different data types (e.g., integers, strings, floats, etc.) in the same list.\n",
        "\n",
        "2. Performance\n",
        "\n",
        "NumPy arrays: Are more memory and computationally efficient because they are implemented in C and optimized for numerical operations.\n",
        "\n",
        "Python lists: Are slower for numerical operations since they are implemented in Python, which is not as efficient for numerical tasks.\n",
        "\n",
        "3. Size and Memory Consumption\n",
        "\n",
        "NumPy arrays: Have a fixed size and are more compact in memory. Since all elements are of the same type, it minimizes memory usage.\n",
        "\n",
        "Python lists: Are dynamic in size and can grow as needed. However, they are less memory-efficient due to their support for different data types.\n",
        "\n",
        "4. Multidimensional Arrays\n",
        "\n",
        "NumPy arrays: Support multidimensional arrays (like matrices, tensors, etc.), which are convenient for handling large datasets and complex operations (e.g., matrix multiplication).\n",
        "\n",
        "Python lists: Do not have native support for multidimensional arrays, though you can manually create lists of lists to simulate multidimensional arrays.\n",
        "\n",
        "5. Operations\n",
        "\n",
        "NumPy arrays: Support element-wise operations (like addition, multiplication, etc.) directly without requiring explicit loops. Operations on NumPy arrays are vectorized, making them much faster than Python lists.\n",
        "\n",
        "Python lists: Require loops or list comprehensions for element-wise operations, which can be slower than NumPy operations.\n",
        "\n",
        "6. Built-in Functions and Methods\n",
        "\n",
        "NumPy arrays: Come with a wide range of built-in mathematical, statistical, and linear algebra functions that operate on entire arrays.\n",
        "\n",
        "Python lists: Have fewer built-in functions and focus more on general-purpose operations like adding/removing elements, iterating, etc.\n",
        "\n",
        "7. Syntax for Creation\n",
        "\n",
        "NumPy arrays: Created using the numpy.array( ) function and can be initialized from lists or other iterables.\n",
        "\n",
        "Python lists: Created using square brackets [ ].\n",
        "\n",
        "8. Broadcasting\n",
        "\n",
        "NumPy arrays: Support broadcasting, which means NumPy can apply operations to arrays of different shapes and sizes under certain conditions (e.g., adding a scalar to a matrix).\n",
        "\n",
        "Python lists: Do not support broadcasting. Operations like adding a scalar to a list need manual looping."
      ],
      "metadata": {
        "id": "LxTqnDfAE-Ji"
      }
    },
    {
      "cell_type": "markdown",
      "source": [
        "Q7 - What is a heatmap, and when should it be used?"
      ],
      "metadata": {
        "id": "nf9cIH4tEWco"
      }
    },
    {
      "cell_type": "markdown",
      "source": [
        "Ans 7 - A heatmap is a data visualization tool that uses color to represent the intensity or value of a variable across a two-dimensional space. It’s a way to show the magnitude of a phenomenon using color gradients, with higher values typically represented by warmer colors (like red or yellow) and lower values by cooler colors (like blue or green).\n",
        "\n",
        "Key Uses of Heatmaps:\n",
        "\n",
        "Data Analysis: Heatmaps are useful in fields like finance, biology, and economics, where large datasets need to be analyzed to spot patterns or anomalies.\n",
        "\n",
        "Website Analytics: In digital marketing and user experience (UX) design, heatmaps show where users are clicking, scrolling, or hovering on a webpage. This helps understand user behavior, guiding decisions for improving website design or content placement.\n",
        "\n",
        "Geographical Mapping: Heatmaps are commonly used to visualize the concentration of activities or events over a geographical area (e.g., crime rates in a city, traffic density, or disease outbreaks).\n",
        "\n",
        "Correlation Matrices: In statistics, heatmaps are used to display correlation matrices, where the relationship between different variables is represented by color gradients.\n",
        "\n",
        "Sports and Performance Analytics: In sports, heatmaps can visualize the movements of players during a game or identify areas of high performance.\n",
        "\n",
        "When to Use a Heatmap:\n",
        "\n",
        "To Identify Patterns: Heatmaps are useful when you need to visualize trends or patterns across large datasets quickly.\n",
        "\n",
        "When Location or Position Matters: Heatmaps are especially helpful when you're dealing with data that has a spatial or positional component, such as in website or geographic data.\n",
        "\n",
        "For Quick Comparison of Data: If you need to quickly compare multiple variables or conditions, a heatmap offers an intuitive way to do so, with color encoding making it easier to spot outliers or trends.\n",
        "\n",
        "In short, a heatmap should be used when you want to communicate the intensity of data points clearly and visually, part"
      ],
      "metadata": {
        "id": "rnPK0uXZHd8h"
      }
    },
    {
      "cell_type": "markdown",
      "source": [
        "Q8 - What does the term “vectorized operation” mean in NumPy?"
      ],
      "metadata": {
        "id": "fVSRFatSL4tg"
      }
    },
    {
      "cell_type": "markdown",
      "source": [
        "Ans 8 - In NumPy, a vectorized operation refers to performing element-wise operations on arrays without the need for explicit Python loops. These operations are optimized at a lower level, typically in C or Fortran, which allows them to run much faster than regular Python loops.\n",
        "\n",
        "When you use vectorized operations in NumPy, you can apply functions (like addition, multiplication, or more complex mathematical operations) to entire arrays (or matrices) in a single line of code. This approach takes advantage of NumPy's ability to apply operations to all elements of an array simultaneously, leveraging low-level optimizations and avoiding the overhead of Python loops."
      ],
      "metadata": {
        "id": "Z3r4tzXhNV1y"
      }
    },
    {
      "cell_type": "markdown",
      "source": [
        "Q9 - How does Matplotlib differ from Plotly?"
      ],
      "metadata": {
        "id": "i3EtyKtVNWVR"
      }
    },
    {
      "cell_type": "markdown",
      "source": [
        "Ans 9 - Matplotlib and Plotly are both popular Python libraries for creating visualizations, but they differ in several key aspects. Here's a breakdown:\n",
        "\n",
        "1. Ease of Use\n",
        "\n",
        "Matplotlib: It is a low-level library, offering full control over the plot details. However, this can make it more complex to use, especially for beginners. You need to explicitly define elements like titles, labels, and legend positions.\n",
        "\n",
        "Plotly: It is more user-friendly and offers a higher-level API, which makes it easier to create interactive and aesthetically pleasing plots. Many features can be set with minimal code, making it more accessible for quick visualizations.\n",
        "\n",
        "2. Interactivity\n",
        "\n",
        "Matplotlib: By default, Matplotlib creates static plots, although interactivity can be added through additional libraries like mpl_toolkits, matplotlib widgets, or using Jupyter notebooks for dynamic updates.\n",
        "\n",
        "Plotly: Interactivity is built-in. Plotly plots are interactive by default, allowing users to zoom, pan, hover, and get tooltips without any additional configuration.\n",
        "\n",
        "3. Plot Types\n",
        "\n",
        "Matplotlib: It is very versatile and can create a wide range of plots, from basic line and scatter plots to more complex ones like histograms, heatmaps, and 3D plots. However, certain plot types like geographic maps or animations require additional configurations or libraries.\n",
        "\n",
        "Plotly: While Plotly also supports a broad range of plots (including 3D plots and geographic plots), it shines in offering advanced charts out-of-the-box, such as choropleth maps, sunburst diagrams, and 3D scatter plots.\n",
        "\n",
        "4. Customization\n",
        "\n",
        "Matplotlib: Being a low-level library, Matplotlib offers a high degree of customization. You can control almost every aspect of a plot, including axis ticks, gridlines, colors, font size, and more.\n",
        "\n",
        "Plotly: Plotly is also customizable, but it focuses more on creating visually attractive plots with less manual effort. While you can adjust various aspects, it's not as granular as Matplotlib for fine-tuning every small detail.\n",
        "\n",
        "5. Output\n",
        "\n",
        "Matplotlib: Produces static images (PNG, PDF, SVG, etc.). These plots are great for publications and presentations where interactivity isn't necessary.\n",
        "\n",
        "Plotly: Produces interactive plots (HTML files or embeddable plots in web applications), which are ideal for dashboards and exploratory data analysis, where user engagement with the data is important.\n",
        "\n",
        "6. Integration with Dashboards\n",
        "\n",
        "Matplotlib: Generally used for static plots, though it can be integrated into dashboards with additional tools like Tkinter, PyQt, or Dash. However, the interactivity would need to be added via external libraries.\n",
        "\n",
        "Plotly: Integrates seamlessly with Dash (Plotly’s framework for building interactive web applications). This makes Plotly an excellent choice for building interactive dashboards.\n",
        "\n",
        "7. Performance\n",
        "\n",
        "Matplotlib: It’s relatively efficient for simpler, static visualizations. However, when handling very large datasets, it may become slow and inefficient.\n",
        "\n",
        "Plotly: Can handle larger datasets better, especially for interactive plots. It has optimized rendering capabilities in web browsers, allowing it to handle more complex visualizations.\n",
        "\n",
        "8. Community and Support\n",
        "\n",
        "Matplotlib: It has been around for a long time and has a large, active community. It's well-documented and widely used in academia and industry.\n",
        "\n",
        "Plotly: Also has a growing community and strong documentation, with a focus on web-based visualizations and interactive plots. Plotly has become popular for creating visualizations in web applications and dashboards.\n",
        "\n",
        "Summary:\n",
        "\n",
        "Matplotlib is ideal if you need fine-grained control over plot details, work with static plots, or are used to working in traditional, publication-ready formats.\n",
        "\n",
        "Plotly is great if you need interactive plots, have a focus on user engagement, or are building dashboards/web applications.\n",
        "\n",
        "In essence, Matplotlib excels in creating static, highly customized visualizations, while Plotly is better suited for interactive, web-based visualizations."
      ],
      "metadata": {
        "id": "vNMgdG8sNxFe"
      }
    },
    {
      "cell_type": "markdown",
      "source": [
        "Q10 - What is the significance of hierarchical indexing in Pandas?"
      ],
      "metadata": {
        "id": "psV_01VfNxxr"
      }
    },
    {
      "cell_type": "markdown",
      "source": [
        "Ans 10 - Hierarchical indexing (also known as MultiIndex) in Pandas is a powerful feature that allows you to work with higher-dimensional data in a more organized and flexible way. The significance of hierarchical indexing can be understood through several key points:\n",
        "\n",
        "1. Handling Multi-dimensional Data\n",
        "\n",
        "Multi-level indexing enables you to represent data with multiple dimensions in a two-dimensional table (DataFrame). For example, you can have a DataFrame where the rows are indexed by both a \"country\" and \"year,\" effectively creating a two-level index. This allows for more granular and complex data structures, which would otherwise require more convoluted approaches like adding more columns or restructuring the data.\n",
        "\n",
        "2. Easy Data Manipulation\n",
        "\n",
        "With hierarchical indexing, you can easily access and manipulate data at different levels of the index. You can perform operations like slicing and aggregations on specific levels of the index without needing to modify the DataFrame structure. For instance, you can filter data for a specific country or year and apply operations across other levels of the data.\n",
        "\n",
        "3. Enhanced Grouping and Aggregation\n",
        "\n",
        "Hierarchical indexing is especially useful when performing groupby operations. By grouping data on multiple levels of the index, you can easily perform aggregation, such as calculating the mean or sum, on subsets of data defined by the index levels. This can be particularly beneficial when you need to perform analysis based on multiple categorical variables (e.g., country, year, region).\n",
        "\n",
        "4. Flexibility in Pivoting and Reshaping\n",
        "\n",
        "MultiIndex allows you to perform operations like pivoting, melting, and reshaping with ease. You can re-arrange the data by adjusting which levels of the index are used as columns, rows, or values. This gives you more flexibility to reshape data for various use cases.\n",
        "\n",
        "5. Improved Readability and Data Structure\n",
        "\n",
        "It provides a clear and structured way of representing multi-dimensional data. Instead of using several columns for different categories or hierarchical information, you can have these as part of the index, making the DataFrame more compact and easier to read."
      ],
      "metadata": {
        "id": "_XxsgfskPXgR"
      }
    },
    {
      "cell_type": "markdown",
      "source": [
        "Q11 - What is the role of Seaborn’s pairplot() function?"
      ],
      "metadata": {
        "id": "nx6V6Tr7PX_x"
      }
    },
    {
      "cell_type": "markdown",
      "source": [
        "Ans 11 - Seaborn's pairplot() function is used to create a matrix of scatterplots for each pair of features in a dataset. It allows you to visually explore the relationships between multiple numerical variables in a dataset.\n",
        "\n",
        "This function is particularly useful for understanding how different features correlate with one another and for detecting patterns, trends, or outliers.\n",
        "\n",
        "Here's what it does:\n",
        "\n",
        "Pairwise Relationships: It generates scatter plots for every possible pair of features in a dataset, which helps in identifying correlations or dependencies between features.\n",
        "\n",
        "Diagonal Histograms (or KDEs): On the diagonal of the plot matrix, Seaborn by default displays histograms (or Kernel Density Estimation (KDE) plots) of each individual feature, providing insight into the distribution of each feature.\n",
        "\n",
        "Hue Option: You can group the data by a categorical variable using the hue parameter, which will color the points based on the values of the specified categorical variable. This allows you to see how different categories behave across multiple features."
      ],
      "metadata": {
        "id": "5D6NeMyWPcGC"
      }
    },
    {
      "cell_type": "markdown",
      "source": [
        "Q12 - What is the purpose of the describe() function in Pandas?"
      ],
      "metadata": {
        "id": "5bZbU5-NQiHy"
      }
    },
    {
      "cell_type": "markdown",
      "source": [
        "Ans 12 - The describe() function in Pandas provides a summary of the statistics for numerical columns in a DataFrame or Series. It quickly generates descriptive statistics like:\n",
        "\n",
        "Count: The number of non-null values.\n",
        "\n",
        "Mean: The average of the values.\n",
        "\n",
        "Standard deviation: How spread out the values are.\n",
        "\n",
        "Min: The smallest value.\n",
        "\n",
        "25th percentile (Q1): The value below which 25% of the data falls.\n",
        "\n",
        "50th percentile (Median or Q2): The middle value of the dataset.\n",
        "\n",
        "75th percentile (Q3): The value below which 75% of the data falls.\n",
        "\n",
        "Max: The largest value.\n",
        "\n",
        "If used on a DataFrame with both numerical and categorical columns, describe() will summarize numerical columns by default, but it can be adjusted to show statistics for categorical columns as well by using the include='object' or include='all' argument."
      ],
      "metadata": {
        "id": "mJiuIdEuQnNR"
      }
    },
    {
      "cell_type": "markdown",
      "source": [
        "Q13 - Why is handling missing data important in Pandas?"
      ],
      "metadata": {
        "id": "vvX_PVz2Q5I5"
      }
    },
    {
      "cell_type": "markdown",
      "source": [
        "Ans 13 - Handling missing data is crucial when working with Pandas (or any data analysis tool) for several reasons:\n",
        "\n",
        "Accuracy of Analysis: Missing data can lead to inaccurate analysis and conclusions. Many machine learning algorithms and statistical methods rely on complete data to compute accurate results. If missing values are not handled properly, they can distort the model's predictions or the insights you draw from the data.\n",
        "\n",
        "Avoiding Errors: Many Pandas functions and operations can raise errors or behave unexpectedly if they encounter missing data. For example, performing arithmetic operations on data with NaN (Not a Number) values can result in errors or misleading results. Managing missing data ensures that calculations run smoothly.\n",
        "\n",
        "Bias Prevention: If missing data is ignored, it could introduce bias into the analysis. For example, if data is missing in a non-random way (e.g., certain groups or features are more likely to have missing values), it could skew results and lead to biased insights or predictions.\n",
        "\n",
        "Data Integrity: Incomplete data can reduce the reliability of your dataset. By filling in or removing missing values in a thoughtful manner, you help maintain the integrity of your data and ensure that it is ready for further analysis, machine learning, or statistical modeling.\n",
        "\n",
        "Improved Modeling: Machine learning algorithms often require a complete dataset or need the missing data to be imputed or processed in a particular way. Handling missing values appropriately can improve model performance and ensure that the algorithm has the information it needs to make predictions effectively.\n",
        "\n",
        "Data Cleaning Best Practices: Missing data is a natural occurrence in real-world datasets, but it is part of the data cleaning process. Properly handling missing data is an essential part of preparing data for analysis, ensuring that you're working with the best quality data possible."
      ],
      "metadata": {
        "id": "UjDI9PNDQ9y0"
      }
    },
    {
      "cell_type": "markdown",
      "source": [
        "Q14 - What are the benefits of using Plotly for data visualization?"
      ],
      "metadata": {
        "id": "IqqcsF_IUdJS"
      }
    },
    {
      "cell_type": "markdown",
      "source": [
        "Ans 14 - Plotly is a powerful and versatile library for creating interactive and visually appealing data visualizations. Some of the key benefits of using Plotly for data visualization include:\n",
        "\n",
        "1. Interactivity\n",
        "\n",
        "Plotly enables interactive plots by default. Users can zoom in, pan, hover over data points for more details, and even export the plots. This level of interactivity is great for exploring data in more depth and for presentations or dashboards.\n",
        "\n",
        "2. Beautiful, High-Quality Visualizations\n",
        "\n",
        "Plotly creates aesthetically pleasing, publication-quality charts with minimal configuration. It’s known for producing smooth, clean, and customizable graphs with an emphasis on visual appeal.\n",
        "\n",
        "3. Ease of Use\n",
        "\n",
        "The syntax of Plotly is intuitive and easy to use for both beginners and experienced developers. Creating a simple plot is as straightforward as passing data to a function and customizing its appearance.\n",
        "\n",
        "4. Wide Variety of Chart Types\n",
        "\n",
        "Plotly supports a broad range of chart types including line charts, bar charts, scatter plots, heatmaps, pie charts, 3D plots, maps, and more. This flexibility makes it suitable for a variety of applications in different domains like finance, machine learning, scientific research, and business intelligence.\n",
        "\n",
        "5. Integration with Other Tools\n",
        "\n",
        "Plotly integrates seamlessly with popular Python libraries like Pandas, NumPy, and Matplotlib. It can also work within Jupyter Notebooks, making it a good choice for data analysis in a notebook environment.\n",
        "Plotly also integrates with web frameworks like Dash, which allows users to create interactive dashboards with minimal code.\n",
        "\n",
        "6. Customization\n",
        "\n",
        "Plotly allows fine-grained control over chart aesthetics. You can customize colors, labels, fonts, axes, legends, and other visual elements. Additionally, it has a comprehensive set of configuration options for each chart type to tweak it to your exact needs.\n",
        "\n",
        "7. Support for 3D and Geographic Visualizations\n",
        "\n",
        "Plotly allows you to create 3D visualizations, which can be useful for exploring multi-dimensional data. It also supports geographic maps, so you can visualize data with spatial dimensions such as latitudes and longitudes, making it great for geospatial analysis.\n",
        "\n",
        "8. Responsive Design\n",
        "\n",
        "Plots created with Plotly are responsive, meaning they automatically adjust to different screen sizes. This is particularly beneficial for embedding visualizations in websites or mobile apps.\n",
        "\n",
        "9. Web-Based Rendering\n",
        "\n",
        "Plotly charts can be easily shared and viewed in web browsers. This is useful for sharing visualizations in web applications, reports, or presentations without needing additional software.\n",
        "\n",
        "10. Integration with Dash for Web Apps\n",
        "\n",
        "Dash is a Python framework built on top of Plotly that allows you to create fully interactive web applications. Dash enables you to integrate complex plots, controls, and UI elements into a single app.\n",
        "\n",
        "11. Cross-Language Support\n",
        "\n",
        "While Plotly is most commonly used in Python, it also supports other programming languages such as R, JavaScript, Julia, and MATLAB. This makes it versatile for teams working with different technologies.\n",
        "\n",
        "12. Community and Documentation\n",
        "\n",
        "Plotly has an active community and great documentation. Whether you are troubleshooting an issue, looking for a specific chart example, or seeking help for a complex task, there is plenty of support available.\n",
        "\n",
        "13. Free and Open-Source\n",
        "\n",
        "Plotly's Python library is open-source, making it free to use. While Plotly also offers enterprise solutions for more advanced features (like private hosting), the core functionality is freely available to everyone.\n",
        "\n",
        "14. Embedding Capabilities\n",
        "\n",
        "Plotly charts can be easily embedded in other platforms (e.g., blogs, reports, or websites). This is especially valuable for sharing visualizations in a collaborative or public-facing way.\n",
        "In summary, Plotly is an excellent tool for anyone looking to create interactive, high-quality, and customizable data visualizations in Python, with the added benefit of integrating into web applications and dashboards seamlessly."
      ],
      "metadata": {
        "id": "KeShMajbUexl"
      }
    },
    {
      "cell_type": "markdown",
      "source": [
        "Q15 - How does NumPy handle multidimensional arrays?"
      ],
      "metadata": {
        "id": "PPQcF9ilWlzn"
      }
    },
    {
      "cell_type": "markdown",
      "source": [
        "Ans 15 - NumPy handles multidimensional arrays using its core data structure called the ndarray (n-dimensional array). This allows NumPy to work efficiently with arrays of any dimensionality (1D, 2D, 3D, etc.). Here’s how NumPy handles these arrays:\n",
        "\n",
        "1. Multidimensional Structure\n",
        "\n",
        "A NumPy array can have any number of dimensions. For example:\n",
        "1D array: A simple list or vector.\n",
        "2D array: A matrix, with rows and columns.\n",
        "3D array: Can be thought of as a cube (a stack of matrices).\n",
        "Higher-dimensional arrays: More complex, often used in scientific computing for operations like tensor manipulation.\n",
        "Each array has a shape attribute that defines the size of the array in each dimension. For example, a shape of (3, 4) represents a 2D array with 3 rows and 4 columns, while (2, 3, 4) represents a 3D array with 2 matrices of 3 rows and 4 columns each.\n",
        "\n",
        "2. Indexing and Slicing\n",
        "\n",
        "NumPy allows indexing and slicing for multidimensional arrays in a way similar to how you would for a 1D array, but with tuples. For example:\n",
        "1D array: arr[2] selects the third element.\n",
        "2D array: arr[1, 2] selects the element at row 1, column 2.\n",
        "3D array: arr[1, 2, 3] selects the element at row 1, column 2, depth 3.\n",
        "You can also slice arrays using ranges, such as arr[:, 1:3], which would select all rows but only columns 1 to 3.\n",
        "\n",
        "3. Broadcasting\n",
        "\n",
        "NumPy supports broadcasting, which means that operations on arrays of different shapes can still be performed, as long as they are compatible in certain ways. For instance, a scalar value can be added to a multidimensional array, and the scalar is “broadcast” across the entire array.\n",
        "\n",
        "4. Efficient Memory Layout\n",
        "\n",
        "NumPy arrays are stored in contiguous blocks of memory, and this allows for efficient access and manipulation. This differs from regular Python lists, which are pointers to individual objects, and hence slower when it comes to multidimensional data.\n",
        "NumPy arrays are usually stored in row-major (C-style) or column-major (Fortran-style) order, which means they store data row by row or column by column.\n",
        "\n",
        "5. Operations on Multidimensional Arrays\n",
        "\n",
        "NumPy allows element-wise operations on arrays, such as addition, multiplication, etc., which are automatically applied to each element of the array. This applies to multidimensional arrays as well.\n",
        "For example, adding two 2D arrays together would result in element-wise addition (i.e., the value at position [i, j] in both arrays gets added together).\n",
        "\n",
        "6. Reshaping and Flattening\n",
        "\n",
        "NumPy provides various methods to change the shape of arrays, such as .reshape(), .flatten(), and .ravel(). These allow you to transform multidimensional arrays into other shapes or turn them into 1D arrays.\n",
        "For example, you can reshape a 1D array into a 2D array, or flatten a 2D array into 1D.\n",
        "\n",
        "7. Array Methods\n",
        "\n",
        "NumPy provides a variety of functions and methods that work on multidimensional arrays, including:\n",
        "np.sum(): Sum over all or specific axes.\n",
        "np.mean(): Find the mean over all or specific axes.\n",
        "np.transpose(): Transpose a multidimensional array (swap rows and columns in 2D, etc.).\n",
        "np.dot(): Matrix multiplication for 2D arrays."
      ],
      "metadata": {
        "id": "WfuOyiMdWnlj"
      }
    },
    {
      "cell_type": "markdown",
      "source": [
        "Q16 - What is the role of Bokeh in data visualization?"
      ],
      "metadata": {
        "id": "o5YFw92LXTlt"
      }
    },
    {
      "cell_type": "markdown",
      "source": [
        "Ans 16 - Bokeh is a powerful and interactive data visualization library in Python. Its main role in data visualization is to create visually appealing and interactive plots, dashboards, and applications. Some key aspects of Bokeh include:\n",
        "\n",
        "Interactive Plots: Bokeh allows for the creation of highly interactive visualizations, enabling users to zoom, pan, hover over elements to get tooltips, and more. These interactive features make it easier to explore complex datasets.\n",
        "\n",
        "Web Integration: Bokeh is designed to generate visualizations that can be embedded in web applications or shared as standalone HTML files. The plots are rendered in the browser, allowing for rich, interactive displays.\n",
        "\n",
        "Customizable and Flexible: Bokeh provides a lot of flexibility in terms of customizing the appearance of visualizations. It offers a range of plotting options like line charts, scatter plots, bar charts, heatmaps, etc., and allows for the addition of complex features like widgets, sliders, and controls for user interaction.\n",
        "\n",
        "Real-time Streaming: Bokeh can handle real-time data streaming, which is useful for applications where data updates continuously, such as live monitoring systems or real-time analytics dashboards.\n",
        "\n",
        "Integration with Other Libraries: Bokeh can integrate with other popular libraries like Pandas, NumPy, and even machine learning frameworks, making it easy to work with data from various sources.\n",
        "\n",
        "Server Capability: Bokeh can be used with its own server to create more sophisticated web applications. This is particularly helpful when building interactive data apps or dashboards that require continuous updates or user input.\n",
        "\n",
        "In summary, Bokeh is an ideal tool for creating interactive and aesthetically pleasing data visualizations that can be shared online or integrated into web-based applications."
      ],
      "metadata": {
        "id": "AmdW6YPWXUZ-"
      }
    },
    {
      "cell_type": "markdown",
      "source": [
        "Q17 - Explain the difference between apply() and map() in Pandas?"
      ],
      "metadata": {
        "id": "js4D1BNSXtlf"
      }
    },
    {
      "cell_type": "markdown",
      "source": [
        "Ans 17 - In Pandas, both apply() and map() are used to apply functions to data, but they differ in their usage and functionality. Here’s a breakdown of the differences:\n",
        "\n",
        "1. apply()\n",
        "Used on: DataFrame or Series.\n",
        "\n",
        "Functionality: The apply() function allows you to apply a function along an axis of a DataFrame (rows or columns) or to a Series. It’s more flexible and can be used to apply more complex functions.\n",
        "\n",
        "Works with: Can work across multiple rows/columns in a DataFrame, or apply a function to a Series element-wise.\n",
        "\n",
        "Use case: When you need to apply a function along rows, columns, or across complex functions that might require access to multiple columns at once.\n",
        "\n",
        "2. map()\n",
        "Used on: Series only.\n",
        "\n",
        "Functionality: The map() function is used to apply a function element-wise on a Series, which is typically simpler and more focused than apply(). It’s mostly used when you want to map each value in the Series to a new value, based on a dictionary, a Series, or a function.\n",
        "\n",
        "Works with: Series only (not DataFrame). It can map a function or dictionary values to Series elements.\n",
        "\n",
        "Use case: When you need to map a function or dictionary to the values of a Series element-wise."
      ],
      "metadata": {
        "id": "4ZjtXeJEXxbF"
      }
    },
    {
      "cell_type": "markdown",
      "source": [
        "Q18 - What are some advanced features of NumPy?"
      ],
      "metadata": {
        "id": "ebOqMQqvbLnG"
      }
    },
    {
      "cell_type": "markdown",
      "source": [
        "Ans 18 - NumPy is a powerful library for numerical computing in Python, offering a wide range of advanced features for efficient data manipulation. Here are some advanced features of NumPy:\n",
        "\n",
        "1. Broadcasting\n",
        "Broadcasting allows NumPy to perform element-wise operations on arrays of different shapes in a way that would normally require explicit looping. This feature enables more efficient code by automatically expanding arrays to match each other’s shapes.\n",
        "\n",
        "2. Advanced Indexing\n",
        "NumPy supports several advanced indexing methods, including:\n",
        "\n",
        "Integer indexing: Using lists or arrays of integers to index.\n",
        "Boolean indexing: Using boolean arrays to select elements.\n",
        "Fancy indexing: Combining advanced techniques like slicing with multidimensional arrays.\n",
        "\n",
        "3. Vectorization\n",
        "Vectorization refers to replacing explicit loops in Python code with array-wide operations that are applied to all elements at once, often leading to significant performance improvements. NumPy achieves this with efficient C-based implementations.\n",
        "\n",
        "4. Strides and Memory Layout\n",
        "NumPy arrays have a concept of strides, which define how many bytes you must jump in memory to go from one element to the next along each axis. Understanding strides can help optimize memory usage and performance when working with large datasets or multidimensional arrays.\n",
        "\n",
        "Contiguous arrays: Arrays that are stored in a single block of memory, improving cache locality and performance.\n",
        "Non-contiguous arrays: Arrays that may have gaps between data, such as those created via slicing or transposition.\n",
        "\n",
        "5. Linear Algebra Functions\n",
        "NumPy includes a set of powerful functions for linear algebra, including:\n",
        "\n",
        "Matrix multiplication (np.dot or @ operator)\n",
        "Eigenvalues and eigenvectors (np.linalg.eig)\n",
        "Singular Value Decomposition (SVD) (np.linalg.svd)\n",
        "Matrix decomposition and inversion (np.linalg.inv, np.linalg.cholesky)\n",
        "\n",
        "6. Random Sampling\n",
        "NumPy has an advanced random module (np.random) that allows you to generate random numbers, shuffle arrays, sample without replacement, or perform random permutations. It also includes functionalities for generating random distributions such as normal, binomial, Poisson, etc.\n",
        "\n",
        "7. Masked Arrays\n",
        "Masked arrays allow you to handle missing or invalid data efficiently. The np.ma module provides tools for working with arrays that have missing or masked elements.\n",
        "\n",
        "8. Memory Mapping\n",
        "NumPy supports memory-mapped arrays, allowing you to read and write large arrays directly from disk as if they were in memory. This is useful for working with very large datasets that don’t fit entirely into RAM.\n",
        "\n"
      ],
      "metadata": {
        "id": "OmD8U0DNbrG7"
      }
    },
    {
      "cell_type": "markdown",
      "source": [
        "Q19 - How does Pandas simplify time series analysis?"
      ],
      "metadata": {
        "id": "e2ZZz6SkbWBJ"
      }
    },
    {
      "cell_type": "markdown",
      "source": [
        "Ans 19 - Pandas simplifies time series analysis by providing a rich set of features and tools that make working with time-based data much easier. Here are several ways it helps streamline time series analysis:\n",
        "\n",
        "DateTime Indexing\n",
        "\n",
        "Resampling and Frequency Conversion\n",
        "\n",
        "Handling Missing Data\n",
        "\n",
        "Time-based Shifting\n",
        "\n",
        "Rolling Windows\n",
        "\n",
        "Time Zone Handling\n",
        "\n",
        "Date Range Generation\n",
        "\n",
        "Time-based Grouping\n",
        "\n",
        "Datetime Component Access\n",
        "\n",
        "Time Series Plotting"
      ],
      "metadata": {
        "id": "QOUSpBh0cjJ6"
      }
    },
    {
      "cell_type": "markdown",
      "source": [
        "Q20 - What is the role of a pivot table in Pandas?"
      ],
      "metadata": {
        "id": "JAZ_60GhwfSa"
      }
    },
    {
      "cell_type": "markdown",
      "source": [
        "Ans 20 - In Pandas, a pivot table is a powerful tool used to summarize, aggregate, and reorganize data in a way that makes it easier to analyze. The pivot_table() function in Pandas allows you to reshape the data by grouping it based on specific columns and applying aggregate functions (such as sum, mean, count, etc.) to summarize the data.\n",
        "\n",
        "The role of a pivot table in Pandas includes:\n",
        "\n",
        "Data Summarization: Pivot tables help in summarizing large datasets by grouping data based on one or more columns and then applying aggregate functions.\n",
        "\n",
        "Reshaping Data: It allows you to \"pivot\" the data, turning unique values from one column into new column headers and summarizing the data based on other column values.\n",
        "\n",
        "Aggregation: You can use pivot tables to calculate aggregate statistics (e.g., mean, sum, count) for groups of data based on one or more categories.\n",
        "\n",
        "Data Analysis: Pivot tables help to identify trends and relationships in data by transforming rows into columns and aggregating data accordingly. This is especially useful in exploratory data analysis (EDA)."
      ],
      "metadata": {
        "id": "UHKYK8t1wgJQ"
      }
    },
    {
      "cell_type": "markdown",
      "source": [
        "Q21 - Why is NumPy’s array slicing faster than Python’s list slicing?"
      ],
      "metadata": {
        "id": "e_IgBNAgwq8x"
      }
    },
    {
      "cell_type": "markdown",
      "source": [
        "Ans 21 - NumPy's array slicing is faster than Python's list slicing primarily because of the following reasons:\n",
        "\n",
        "1. Contiguous Memory Allocation:\n",
        "\n",
        "NumPy arrays are stored in contiguous blocks of memory, meaning the elements are stored next to each other in memory. This allows NumPy to perform operations like slicing more efficiently since it knows the exact memory location of the elements it needs to access.\n",
        "\n",
        "Python lists, on the other hand, are arrays of pointers to objects, meaning each element in the list is a reference to an object stored elsewhere in memory. This extra level of indirection and fragmentation can make list slicing slower.\n",
        "\n",
        "2. Pre-Allocated Data:\n",
        "\n",
        "When NumPy slices an array, it doesn’t create a new copy of the array unless explicitly requested. Instead, NumPy returns a \"view\" (a reference to the original data), which allows for fast slicing operations without the need to copy data. This minimizes memory overhead and increases speed.\n",
        "\n",
        "In contrast, Python lists usually create new lists when they are sliced. This copying process can be slow, especially for large lists.\n",
        "\n",
        "3. Optimized Internal Code:\n",
        "\n",
        "NumPy is written in C, which is highly optimized for numerical computations, including slicing. It can perform operations directly in compiled code, which is much faster than Python’s interpreted code.\n",
        "\n",
        "Python lists are implemented in Python and have more overhead due to being dynamically typed and requiring checks for the types of elements, which slows down the slicing process.\n",
        "\n",
        "4. Array Strides:\n",
        "\n",
        "NumPy allows efficient slicing with the use of array strides, which means it can slice along different axes (rows, columns, etc.) more effectively without needing to iterate over the elements manually. This technique is highly optimized for performance.\n",
        "\n",
        "Python lists don’t have the same notion of strides and, as a result, are less efficient when it comes to advanced slicing operations, especially for multidimensional data.\n",
        "\n",
        "5. Vectorization and Broadcasting:\n",
        "\n",
        "NumPy can perform vectorized operations, meaning it can apply a function to an entire array without needing explicit loops. This results in faster computations and efficient memory usage.\n",
        "\n",
        "Python lists require explicit loops for element-wise operations, which can be slower than NumPy’s optimized vectorized approach.\n",
        "\n",
        "In summary, the combination of memory efficiency, reduced overhead, and highly optimized internal algorithms makes NumPy slicing much faster than Python list slicing, especially for large datasets or multidimensional data."
      ],
      "metadata": {
        "id": "NUTWAJi3ws8R"
      }
    },
    {
      "cell_type": "markdown",
      "source": [
        "Q22 - What are some common use cases for Seaborn?"
      ],
      "metadata": {
        "id": "TmRPmT4DPcev"
      }
    },
    {
      "cell_type": "markdown",
      "source": [
        "Ans 22 - Seaborn is a powerful Python data visualization library built on top of Matplotlib, and it simplifies the creation of visually appealing and informative statistical graphics. Here are some common use cases for Seaborn:\n",
        "\n",
        "1. Visualizing Distributions\n",
        "\n",
        "Histograms: Understanding the distribution of a dataset.\n",
        "Example: sns.histplot(data)\n",
        "\n",
        "KDE (Kernel Density Estimate): Estimating the probability density function.\n",
        "Example: sns.kdeplot(data)\n",
        "\n",
        "Boxplots: Visualizing the spread and outliers in a dataset.\n",
        "Example: sns.boxplot(data)\n",
        "\n",
        "Violin plots: Combining aspects of boxplots and KDEs to visualize distribution and density.\n",
        "Example: sns.violinplot(data)\n",
        "\n",
        "2. Comparing Categorical Data\n",
        "\n",
        "Bar Plots: Displaying the relationship between a categorical variable and a numeric one.\n",
        "Example: sns.barplot(x='category', y='value', data=df)\n",
        "\n",
        "Count Plots: Counting occurrences of categories.\n",
        "Example: sns.countplot(x='category', data=df)\n",
        "\n",
        "Point Plots: Showing relationships between categorical and continuous variables with error bars.\n",
        "Example: sns.pointplot(x='category', y='value', data=df)\n",
        "\n",
        "3. Relationships Between Two Variables\n",
        "Scatter Plots: Displaying relationships between two continuous variables.\n",
        "Example: sns.scatterplot(x='var1', y='var2', data=df)\n",
        "\n",
        "Pair Plots: Visualizing pairwise relationships across an entire dataset (good for multivariate analysis).\n",
        "Example: sns.pairplot(df)\n",
        "\n",
        "Heatmaps: Visualizing correlations between numeric variables in matrix form.\n",
        "Example: sns.heatmap(correlation_matrix)\n",
        "\n",
        "4. Multivariate Relationships\n",
        "\n",
        "Facet Grids: Visualizing multiple subsets of data with the same plot type in different subplots.\n",
        "Example: sns.FacetGrid(df, col='column_name').map(sns.scatterplot, 'var1', 'var2')\n",
        "\n",
        "Joint Plots: Combining scatter plots and distribution plots to show relationships between two variables.\n",
        "Example: sns.jointplot(x='var1', y='var2', data=df)\n",
        "\n",
        "5. Visualizing Time Series Data\n",
        "Line Plots: Displaying time series data or trends over time.\n",
        "Example: sns.lineplot(x='time', y='value', data=df)\n",
        "\n",
        "6. Categorical and Numerical Group Comparisons\n",
        "Boxen Plots: Used for visualizing large-scale data distributions, especially for identifying outliers and relationships.\n",
        "Example: sns.boxenplot(x='category', y='value', data=df)\n",
        "\n",
        "Strip Plots: Showing individual observations on top of a categorical variable.\n",
        "Example: sns.stripplot(x='category', y='value', data=df)\n",
        "\n",
        "7. Correlation Matrices\n",
        "Heatmaps: Great for showing correlations between many variables in a visually intuitive format.\n",
        "Example: sns.heatmap(df.corr(), annot=True, cmap='coolwarm')\n",
        "\n",
        "8. Visualizing Marginal Distributions\n",
        "Marginal Histograms/Distributions: In joint plots, Seaborn allows visualizing the distributions of variables on the margins.\n",
        "Example: sns.jointplot(x='var1', y='var2', kind='hex', data=df)\n",
        "\n",
        "Seaborn is widely used for its simplicity and ability to create publication-quality plots easily. Whether you're comparing categories, exploring distributions, or visualizing relationships in your data, Seaborn has a lot of tools to make the task easy and effective."
      ],
      "metadata": {
        "id": "sydRTeqLxPQ5"
      }
    },
    {
      "cell_type": "markdown",
      "source": [
        "Q1 - How do you create a 2D NumPy array and calculate the sum of each row?"
      ],
      "metadata": {
        "id": "KF37CA4ux8PP"
      }
    },
    {
      "cell_type": "code",
      "source": [
        "#Ans 1\n",
        "\n",
        "import numpy as np\n",
        "\n",
        "array = np.array([[1, 2, 3], [4, 5, 6], [7, 8, 9]])\n",
        "\n",
        "row_sums = np.sum(array, axis=1)\n",
        "\n",
        "print(\"Array:\")\n",
        "print(array)\n",
        "print(\"\\nSum of each row:\")\n",
        "print(row_sums)"
      ],
      "metadata": {
        "colab": {
          "base_uri": "https://localhost:8080/"
        },
        "id": "CuftvI0WyGTr",
        "outputId": "696821b7-bef5-4677-b89c-9affe3be7cc0"
      },
      "execution_count": null,
      "outputs": [
        {
          "output_type": "stream",
          "name": "stdout",
          "text": [
            "Array:\n",
            "[[1 2 3]\n",
            " [4 5 6]\n",
            " [7 8 9]]\n",
            "\n",
            "Sum of each row:\n",
            "[ 6 15 24]\n"
          ]
        }
      ]
    },
    {
      "cell_type": "markdown",
      "source": [
        "Q2 - Write a Pandas script to find the mean of a specific column in a DataFrame?"
      ],
      "metadata": {
        "id": "K52N009OyXqm"
      }
    },
    {
      "cell_type": "code",
      "source": [
        "#Ans 2\n",
        "\n",
        "import pandas as pd\n",
        "\n",
        "# Sample DataFrame\n",
        "data = {\n",
        "    'Name': ['Ajay', 'Sanjay', 'Vijay'],\n",
        "    'Age': [23, 35, 45],\n",
        "    'Salary': [10000, 20000, 30000]\n",
        "}\n",
        "\n",
        "# Create a DataFrame\n",
        "df = pd.DataFrame(data)\n",
        "\n",
        "# Find the mean of the 'Salary' column\n",
        "mean_salary = df['Salary'].mean()\n",
        "\n",
        "print(f\"The mean salary is: {mean_salary}\")"
      ],
      "metadata": {
        "colab": {
          "base_uri": "https://localhost:8080/"
        },
        "id": "hS9OlezTyskR",
        "outputId": "1bc6ccda-e4d1-4314-f62b-2972e16d2620"
      },
      "execution_count": null,
      "outputs": [
        {
          "output_type": "stream",
          "name": "stdout",
          "text": [
            "The mean salary is: 20000.0\n"
          ]
        }
      ]
    },
    {
      "cell_type": "markdown",
      "source": [
        "Q3 - Create a scatter plot using Matplotlib?"
      ],
      "metadata": {
        "id": "ZTpLBpl5zDIJ"
      }
    },
    {
      "cell_type": "code",
      "source": [
        "#Ans 3\n",
        "\n",
        "import matplotlib.pyplot as plt\n",
        "\n",
        "# Sample data\n",
        "x = [1, 2, 3, 4, 5]\n",
        "y = [5, 4, 3, 2, 1]\n",
        "\n",
        "# Create a scatter plot\n",
        "plt.scatter(x, y)\n",
        "\n",
        "# Add labels and a title\n",
        "plt.xlabel('X axis')\n",
        "plt.ylabel('Y axis')\n",
        "plt.title('Simple Scatter Plot')\n",
        "\n",
        "# Show the plot\n",
        "plt.show()"
      ],
      "metadata": {
        "colab": {
          "base_uri": "https://localhost:8080/",
          "height": 472
        },
        "id": "8AncxUo0zIOH",
        "outputId": "dafb02ff-1fad-4da4-b2d6-b753902de40d"
      },
      "execution_count": null,
      "outputs": [
        {
          "output_type": "display_data",
          "data": {
            "text/plain": [
              "<Figure size 640x480 with 1 Axes>"
            ],
            "image/png": "[encoded data removed]"
          },
          "metadata": {}
        }
      ]
    },
    {
      "cell_type": "markdown",
      "source": [
        "Q4 - How do you calculate the correlation matrix using Seaborn and visualize it with a heatmap?"
      ],
      "metadata": {
        "id": "96wBVnQJzmrX"
      }
    },
    {
      "cell_type": "code",
      "source": [
        "#Ans 4\n",
        "\n",
        "pip install seaborn pandas matplotlib\n",
        "\n",
        "import seaborn as sns\n",
        "import pandas as pd\n",
        "import matplotlib.pyplot as plt\n",
        "\n",
        "# Load a sample dataset\n",
        "df = sns.load_dataset('iris')\n",
        "\n",
        "df = pd.read_csv(\"your_dataset.csv\")\n",
        "\n",
        "correlation_matrix = df.corr()\n",
        "\n",
        "plt.figure(figsize=(10, 8))  # Adjust the size of the plot\n",
        "sns.heatmap(correlation_matrix, annot=True, cmap='coolwarm', fmt='.2f', linewidths=0.5)\n",
        "plt.title('Correlation Matrix Heatmap')\n",
        "plt.show()"
      ],
      "metadata": {
        "id": "hVaiqs4vzxgf"
      },
      "execution_count": null,
      "outputs": []
    },
    {
      "cell_type": "markdown",
      "source": [
        "Q5 -  Generate a bar plot using Plotly?"
      ],
      "metadata": {
        "id": "FjrutGFL0-Kj"
      }
    },
    {
      "cell_type": "code",
      "source": [
        "import plotly.graph_objects as go\n",
        "\n",
        "# Data for the bar plot\n",
        "categories = ['A', 'B', 'C', 'D', 'E']\n",
        "values = [10, 15, 7, 18, 22]\n",
        "\n",
        "# Create a bar plot\n",
        "fig = go.Figure(data=[go.Bar(x=categories, y=values)])\n",
        "\n",
        "# Customize the layout\n",
        "fig.update_layout(\n",
        "    title='Simple Bar Plot',\n",
        "    xaxis_title='Category',\n",
        "    yaxis_title='Values'\n",
        ")\n",
        "\n",
        "# Show the plot\n",
        "fig.show()"
      ],
      "metadata": {
        "colab": {
          "base_uri": "https://localhost:8080/",
          "height": 542
        },
        "id": "oRwxCfep1RHv",
        "outputId": "8a7d631e-993a-4fdd-9c29-7594db1623c9"
      },
      "execution_count": null,
      "outputs": [
        {
          "output_type": "display_data",
          "data": {
            "text/html": [
              "<html>\n",
              "<head><meta charset=\"utf-8\" /></head>\n",
              "<body>\n",
              "    <div>            <script src=\"https://cdnjs.cloudflare.com/ajax/libs/mathjax/2.7.5/MathJax.js?config=TeX-AMS-MML_SVG\"></script><script type=\"text/javascript\">if (window.MathJax && window.MathJax.Hub && window.MathJax.Hub.Config) {window.MathJax.Hub.Config({SVG: {font: \"STIX-Web\"}});}</script>                <script type=\"text/javascript\">window.PlotlyConfig = {MathJaxConfig: 'local'};</script>\n",
              "        <script charset=\"utf-8\" src=\"https://cdn.plot.ly/plotly-2.35.2.min.js\"></script>                <div id=\"7910b484-71a2-45d7-a5f2-5919e3f198b5\" class=\"plotly-graph-div\" style=\"height:525px; width:100%;\"></div>            <script type=\"text/javascript\">                                    window.PLOTLYENV=window.PLOTLYENV || {};                                    if (document.getElementById(\"7910b484-71a2-45d7-a5f2-5919e3f198b5\")) {                    Plotly.newPlot(                        \"7910b484-71a2-45d7-a5f2-5919e3f198b5\",                        [{\"x\":[\"A\",\"B\",\"C\",\"D\",\"E\"],\"y\":[10,15,7,18,22],\"type\":\"bar\"}],                        {\"template\":{\"data\":{\"histogram2dcontour\":[{\"type\":\"histogram2dcontour\",\"colorbar\":{\"outlinewidth\":0,\"ticks\":\"\"},\"colorscale\":[[0.0,\"#0d0887\"],[0.1111111111111111,\"#46039f\"],[0.2222222222222222,\"#7201a8\"],[0.3333333333333333,\"#9c179e\"],[0.4444444444444444,\"#bd3786\"],[0.5555555555555556,\"#d8576b\"],[0.6666666666666666,\"#ed7953\"],[0.7777777777777778,\"#fb9f3a\"],[0.8888888888888888,\"#fdca26\"],[1.0,\"#f0f921\"]]}],\"choropleth\":[{\"type\":\"choropleth\",\"colorbar\":{\"outlinewidth\":0,\"ticks\":\"\"}}],\"histogram2d\":[{\"type\":\"histogram2d\",\"colorbar\":{\"outlinewidth\":0,\"ticks\":\"\"},\"colorscale\":[[0.0,\"#0d0887\"],[0.1111111111111111,\"#46039f\"],[0.2222222222222222,\"#7201a8\"],[0.3333333333333333,\"#9c179e\"],[0.4444444444444444,\"#bd3786\"],[0.5555555555555556,\"#d8576b\"],[0.6666666666666666,\"#ed7953\"],[0.7777777777777778,\"#fb9f3a\"],[0.8888888888888888,\"#fdca26\"],[1.0,\"#f0f921\"]]}],\"heatmap\":[{\"type\":\"heatmap\",\"colorbar\":{\"outlinewidth\":0,\"ticks\":\"\"},\"colorscale\":[[0.0,\"#0d0887\"],[0.1111111111111111,\"#46039f\"],[0.2222222222222222,\"#7201a8\"],[0.3333333333333333,\"#9c179e\"],[0.4444444444444444,\"#bd3786\"],[0.5555555555555556,\"#d8576b\"],[0.6666666666666666,\"#ed7953\"],[0.7777777777777778,\"#fb9f3a\"],[0.8888888888888888,\"#fdca26\"],[1.0,\"#f0f921\"]]}],\"heatmapgl\":[{\"type\":\"heatmapgl\",\"colorbar\":{\"outlinewidth\":0,\"ticks\":\"\"},\"colorscale\":[[0.0,\"#0d0887\"],[0.1111111111111111,\"#46039f\"],[0.2222222222222222,\"#7201a8\"],[0.3333333333333333,\"#9c179e\"],[0.4444444444444444,\"#bd3786\"],[0.5555555555555556,\"#d8576b\"],[0.6666666666666666,\"#ed7953\"],[0.7777777777777778,\"#fb9f3a\"],[0.8888888888888888,\"#fdca26\"],[1.0,\"#f0f921\"]]}],\"contourcarpet\":[{\"type\":\"contourcarpet\",\"colorbar\":{\"outlinewidth\":0,\"ticks\":\"\"}}],\"contour\":[{\"type\":\"contour\",\"colorbar\":{\"outlinewidth\":0,\"ticks\":\"\"},\"colorscale\":[[0.0,\"#0d0887\"],[0.1111111111111111,\"#46039f\"],[0.2222222222222222,\"#7201a8\"],[0.3333333333333333,\"#9c179e\"],[0.4444444444444444,\"#bd3786\"],[0.5555555555555556,\"#d8576b\"],[0.6666666666666666,\"#ed7953\"],[0.7777777777777778,\"#fb9f3a\"],[0.8888888888888888,\"#fdca26\"],[1.0,\"#f0f921\"]]}],\"surface\":[{\"type\":\"surface\",\"colorbar\":{\"outlinewidth\":0,\"ticks\":\"\"},\"colorscale\":[[0.0,\"#0d0887\"],[0.1111111111111111,\"#46039f\"],[0.2222222222222222,\"#7201a8\"],[0.3333333333333333,\"#9c179e\"],[0.4444444444444444,\"#bd3786\"],[0.5555555555555556,\"#d8576b\"],[0.6666666666666666,\"#ed7953\"],[0.7777777777777778,\"#fb9f3a\"],[0.8888888888888888,\"#fdca26\"],[1.0,\"#f0f921\"]]}],\"mesh3d\":[{\"type\":\"mesh3d\",\"colorbar\":{\"outlinewidth\":0,\"ticks\":\"\"}}],\"scatter\":[{\"fillpattern\":{\"fillmode\":\"overlay\",\"size\":10,\"solidity\":0.2},\"type\":\"scatter\"}],\"parcoords\":[{\"type\":\"parcoords\",\"line\":{\"colorbar\":{\"outlinewidth\":0,\"ticks\":\"\"}}}],\"scatterpolargl\":[{\"type\":\"scatterpolargl\",\"marker\":{\"colorbar\":{\"outlinewidth\":0,\"ticks\":\"\"}}}],\"bar\":[{\"error_x\":{\"color\":\"#2a3f5f\"},\"error_y\":{\"color\":\"#2a3f5f\"},\"marker\":{\"line\":{\"color\":\"#E5ECF6\",\"width\":0.5},\"pattern\":{\"fillmode\":\"overlay\",\"size\":10,\"solidity\":0.2}},\"type\":\"bar\"}],\"scattergeo\":[{\"type\":\"scattergeo\",\"marker\":{\"colorbar\":{\"outlinewidth\":0,\"ticks\":\"\"}}}],\"scatterpolar\":[{\"type\":\"scatterpolar\",\"marker\":{\"colorbar\":{\"outlinewidth\":0,\"ticks\":\"\"}}}],\"histogram\":[{\"marker\":{\"pattern\":{\"fillmode\":\"overlay\",\"size\":10,\"solidity\":0.2}},\"type\":\"histogram\"}],\"scattergl\":[{\"type\":\"scattergl\",\"marker\":{\"colorbar\":{\"outlinewidth\":0,\"ticks\":\"\"}}}],\"scatter3d\":[{\"type\":\"scatter3d\",\"line\":{\"colorbar\":{\"outlinewidth\":0,\"ticks\":\"\"}},\"marker\":{\"colorbar\":{\"outlinewidth\":0,\"ticks\":\"\"}}}],\"scattermapbox\":[{\"type\":\"scattermapbox\",\"marker\":{\"colorbar\":{\"outlinewidth\":0,\"ticks\":\"\"}}}],\"scatterternary\":[{\"type\":\"scatterternary\",\"marker\":{\"colorbar\":{\"outlinewidth\":0,\"ticks\":\"\"}}}],\"scattercarpet\":[{\"type\":\"scattercarpet\",\"marker\":{\"colorbar\":{\"outlinewidth\":0,\"ticks\":\"\"}}}],\"carpet\":[{\"aaxis\":{\"endlinecolor\":\"#2a3f5f\",\"gridcolor\":\"white\",\"linecolor\":\"white\",\"minorgridcolor\":\"white\",\"startlinecolor\":\"#2a3f5f\"},\"baxis\":{\"endlinecolor\":\"#2a3f5f\",\"gridcolor\":\"white\",\"linecolor\":\"white\",\"minorgridcolor\":\"white\",\"startlinecolor\":\"#2a3f5f\"},\"type\":\"carpet\"}],\"table\":[{\"cells\":{\"fill\":{\"color\":\"#EBF0F8\"},\"line\":{\"color\":\"white\"}},\"header\":{\"fill\":{\"color\":\"#C8D4E3\"},\"line\":{\"color\":\"white\"}},\"type\":\"table\"}],\"barpolar\":[{\"marker\":{\"line\":{\"color\":\"#E5ECF6\",\"width\":0.5},\"pattern\":{\"fillmode\":\"overlay\",\"size\":10,\"solidity\":0.2}},\"type\":\"barpolar\"}],\"pie\":[{\"automargin\":true,\"type\":\"pie\"}]},\"layout\":{\"autotypenumbers\":\"strict\",\"colorway\":[\"#636efa\",\"#EF553B\",\"#00cc96\",\"#ab63fa\",\"#FFA15A\",\"#19d3f3\",\"#FF6692\",\"#B6E880\",\"#FF97FF\",\"#FECB52\"],\"font\":{\"color\":\"#2a3f5f\"},\"hovermode\":\"closest\",\"hoverlabel\":{\"align\":\"left\"},\"paper_bgcolor\":\"white\",\"plot_bgcolor\":\"#E5ECF6\",\"polar\":{\"bgcolor\":\"#E5ECF6\",\"angularaxis\":{\"gridcolor\":\"white\",\"linecolor\":\"white\",\"ticks\":\"\"},\"radialaxis\":{\"gridcolor\":\"white\",\"linecolor\":\"white\",\"ticks\":\"\"}},\"ternary\":{\"bgcolor\":\"#E5ECF6\",\"aaxis\":{\"gridcolor\":\"white\",\"linecolor\":\"white\",\"ticks\":\"\"},\"baxis\":{\"gridcolor\":\"white\",\"linecolor\":\"white\",\"ticks\":\"\"},\"caxis\":{\"gridcolor\":\"white\",\"linecolor\":\"white\",\"ticks\":\"\"}},\"coloraxis\":{\"colorbar\":{\"outlinewidth\":0,\"ticks\":\"\"}},\"colorscale\":{\"sequential\":[[0.0,\"#0d0887\"],[0.1111111111111111,\"#46039f\"],[0.2222222222222222,\"#7201a8\"],[0.3333333333333333,\"#9c179e\"],[0.4444444444444444,\"#bd3786\"],[0.5555555555555556,\"#d8576b\"],[0.6666666666666666,\"#ed7953\"],[0.7777777777777778,\"#fb9f3a\"],[0.8888888888888888,\"#fdca26\"],[1.0,\"#f0f921\"]],\"sequentialminus\":[[0.0,\"#0d0887\"],[0.1111111111111111,\"#46039f\"],[0.2222222222222222,\"#7201a8\"],[0.3333333333333333,\"#9c179e\"],[0.4444444444444444,\"#bd3786\"],[0.5555555555555556,\"#d8576b\"],[0.6666666666666666,\"#ed7953\"],[0.7777777777777778,\"#fb9f3a\"],[0.8888888888888888,\"#fdca26\"],[1.0,\"#f0f921\"]],\"diverging\":[[0,\"#8e0152\"],[0.1,\"#c51b7d\"],[0.2,\"#de77ae\"],[0.3,\"#f1b6da\"],[0.4,\"#fde0ef\"],[0.5,\"#f7f7f7\"],[0.6,\"#e6f5d0\"],[0.7,\"#b8e186\"],[0.8,\"#7fbc41\"],[0.9,\"#4d9221\"],[1,\"#276419\"]]},\"xaxis\":{\"gridcolor\":\"white\",\"linecolor\":\"white\",\"ticks\":\"\",\"title\":{\"standoff\":15},\"zerolinecolor\":\"white\",\"automargin\":true,\"zerolinewidth\":2},\"yaxis\":{\"gridcolor\":\"white\",\"linecolor\":\"white\",\"ticks\":\"\",\"title\":{\"standoff\":15},\"zerolinecolor\":\"white\",\"automargin\":true,\"zerolinewidth\":2},\"scene\":{\"xaxis\":{\"backgroundcolor\":\"#E5ECF6\",\"gridcolor\":\"white\",\"linecolor\":\"white\",\"showbackground\":true,\"ticks\":\"\",\"zerolinecolor\":\"white\",\"gridwidth\":2},\"yaxis\":{\"backgroundcolor\":\"#E5ECF6\",\"gridcolor\":\"white\",\"linecolor\":\"white\",\"showbackground\":true,\"ticks\":\"\",\"zerolinecolor\":\"white\",\"gridwidth\":2},\"zaxis\":{\"backgroundcolor\":\"#E5ECF6\",\"gridcolor\":\"white\",\"linecolor\":\"white\",\"showbackground\":true,\"ticks\":\"\",\"zerolinecolor\":\"white\",\"gridwidth\":2}},\"shapedefaults\":{\"line\":{\"color\":\"#2a3f5f\"}},\"annotationdefaults\":{\"arrowcolor\":\"#2a3f5f\",\"arrowhead\":0,\"arrowwidth\":1},\"geo\":{\"bgcolor\":\"white\",\"landcolor\":\"#E5ECF6\",\"subunitcolor\":\"white\",\"showland\":true,\"showlakes\":true,\"lakecolor\":\"white\"},\"title\":{\"x\":0.05},\"mapbox\":{\"style\":\"light\"}}},\"title\":{\"text\":\"Simple Bar Plot\"},\"xaxis\":{\"title\":{\"text\":\"Category\"}},\"yaxis\":{\"title\":{\"text\":\"Values\"}}},                        {\"responsive\": true}                    ).then(function(){\n",
              "                            \n",
              "var gd = document.getElementById('7910b484-71a2-45d7-a5f2-5919e3f198b5');\n",
              "var x = new MutationObserver(function (mutations, observer) {{\n",
              "        var display = window.getComputedStyle(gd).display;\n",
              "        if (!display || display === 'none') {{\n",
              "            console.log([gd, 'removed!']);\n",
              "            Plotly.purge(gd);\n",
              "            observer.disconnect();\n",
              "        }}\n",
              "}});\n",
              "\n",
              "// Listen for the removal of the full notebook cells\n",
              "var notebookContainer = gd.closest('#notebook-container');\n",
              "if (notebookContainer) {{\n",
              "    x.observe(notebookContainer, {childList: true});\n",
              "}}\n",
              "\n",
              "// Listen for the clearing of the current output cell\n",
              "var outputEl = gd.closest('.output');\n",
              "if (outputEl) {{\n",
              "    x.observe(outputEl, {childList: true});\n",
              "}}\n",
              "\n",
              "                        })                };                            </script>        </div>\n",
              "</body>\n",
              "</html>"
            ]
          },
          "metadata": {}
        }
      ]
    },
    {
      "cell_type": "markdown",
      "source": [
        "Q6 - Create a DataFrame and add a new column based on an existing column?"
      ],
      "metadata": {
        "id": "EbpQuKlK1He5"
      }
    },
    {
      "cell_type": "code",
      "source": [
        "# Ans 6\n",
        "\n",
        "import pandas as pd\n",
        "\n",
        "# Create a DataFrame\n",
        "data = {'Numbers': [1, 2, 3, 4, 5]}\n",
        "df = pd.DataFrame(data)\n",
        "\n",
        "# Add a new column based on the 'Numbers' column\n",
        "df['Doubled'] = df['Numbers'] * 2\n",
        "\n",
        "# Display the DataFrame\n",
        "print(df)"
      ],
      "metadata": {
        "colab": {
          "base_uri": "https://localhost:8080/"
        },
        "id": "g9_HoAeU1eY6",
        "outputId": "b6072fa0-5968-4dc2-97ed-d4ab596b0e26"
      },
      "execution_count": null,
      "outputs": [
        {
          "output_type": "stream",
          "name": "stdout",
          "text": [
            "   Numbers  Doubled\n",
            "0        1        2\n",
            "1        2        4\n",
            "2        3        6\n",
            "3        4        8\n",
            "4        5       10\n"
          ]
        }
      ]
    },
    {
      "cell_type": "markdown",
      "source": [
        "Q7 - Write a program to perform element-wise multiplication of two NumPy arrays?"
      ],
      "metadata": {
        "id": "vlQ5b29j13qN"
      }
    },
    {
      "cell_type": "code",
      "source": [
        "# Ans 7\n",
        "\n",
        "import numpy as np\n",
        "\n",
        "# Create two NumPy arrays\n",
        "array1 = np.array([1, 2, 3, 4, 5])\n",
        "array2 = np.array([5, 4, 3, 2, 1])\n",
        "\n",
        "# Perform element-wise multiplication\n",
        "result = array1 * array2\n",
        "\n",
        "# Print the result\n",
        "print(\"Element-wise multiplication result:\", result)"
      ],
      "metadata": {
        "colab": {
          "base_uri": "https://localhost:8080/"
        },
        "id": "XLWDnEkS1_se",
        "outputId": "dccabb69-3534-495c-ef63-63538d44bf3b"
      },
      "execution_count": null,
      "outputs": [
        {
          "output_type": "stream",
          "name": "stdout",
          "text": [
            "Element-wise multiplication result: [5 8 9 8 5]\n"
          ]
        }
      ]
    },
    {
      "cell_type": "markdown",
      "source": [
        "Q8 - Create a line plot with multiple lines using Matplotlib?"
      ],
      "metadata": {
        "id": "KdyW_s8YWbwv"
      }
    },
    {
      "cell_type": "code",
      "source": [
        "# Ans 8 -\n",
        "\n",
        "import matplotlib.pyplot as plt\n",
        "\n",
        "# Example data\n",
        "x = [0, 1, 2, 3, 4, 5]\n",
        "y1 = [0, 1, 4, 9, 16, 25]\n",
        "y2 = [0, -1, -4, -9, -16, -25]\n",
        "y3 = [0, 2, 5, 10, 17, 26]\n",
        "\n",
        "# Create the plot\n",
        "plt.plot(x, y1, label=\"y = x^2\", color='blue', marker='o')  # First line\n",
        "plt.plot(x, y2, label=\"y = -x^2\", color='red', marker='s')  # Second line\n",
        "plt.plot(x, y3, label=\"y = x^2 + 1\", color='green', marker='^')  # Third line\n",
        "\n",
        "# Add labels and title\n",
        "plt.xlabel('X-axis')\n",
        "plt.ylabel('Y-axis')\n",
        "plt.title('Multiple Line Plot Example')\n",
        "\n",
        "# Add a legend\n",
        "plt.legend()\n",
        "\n",
        "# Show the plot\n",
        "plt.show()\n",
        "\n",
        "- import matplotlib.pyplot as plt\n",
        "\n",
        "# Example data\n",
        "x = [0, 1, 2, 3, 4, 5]\n",
        "y1 = [0, 1, 4, 9, 16, 25]\n",
        "y2 = [0, -1, -4, -9, -16, -25]\n",
        "y3 = [0, 2, 5, 10, 17, 26]\n",
        "\n",
        "# Create the plot\n",
        "plt.plot(x, y1, label=\"y = x^2\", color='blue', marker='o')  # First line\n",
        "plt.plot(x, y2, label=\"y = -x^2\", color='red', marker='s')  # Second line\n",
        "plt.plot(x, y3, label=\"y = x^2 + 1\", color='green', marker='^')  # Third line\n",
        "\n",
        "# Add labels and title\n",
        "plt.xlabel('X-axis')\n",
        "plt.ylabel('Y-axis')\n",
        "plt.title('Multiple Line Plot Example')\n",
        "\n",
        "# Add a legend\n",
        "plt.legend()\n",
        "\n",
        "# Show the plot\n",
        "plt.show()"
      ],
      "metadata": {
        "collapsed": true,
        "id": "JVBfvpu7WbEL"
      },
      "execution_count": null,
      "outputs": []
    },
    {
      "cell_type": "markdown",
      "source": [
        "Q9 - Generate a Pandas DataFrame and filter rows where a column value is greater than a threshold?"
      ],
      "metadata": {
        "id": "KNSjj9MEXoik"
      }
    },
    {
      "cell_type": "code",
      "source": [
        "# Ans 9\n",
        "\n",
        "import pandas as pd\n",
        "\n",
        "# Create a sample DataFrame\n",
        "data = {\n",
        "    'A': [10, 20, 30, 40, 50],\n",
        "    'B': [15, 25, 35, 45, 55],\n",
        "    'C': [5, 10, 15, 20, 25]\n",
        "}\n",
        "\n",
        "df = pd.DataFrame(data)\n",
        "\n",
        "# Set the threshold\n",
        "threshold = 30\n",
        "\n",
        "# Filter rows where column 'A' is greater than the threshold\n",
        "filtered_df = df[df['A'] > threshold]\n",
        "\n",
        "# Display the filtered DataFrame\n",
        "print(filtered_df)"
      ],
      "metadata": {
        "colab": {
          "base_uri": "https://localhost:8080/"
        },
        "id": "ZoJMON9KYoy9",
        "outputId": "4de8f0e9-c687-431e-9490-af01e7a2cce2"
      },
      "execution_count": 7,
      "outputs": [
        {
          "output_type": "stream",
          "name": "stdout",
          "text": [
            "    A   B   C\n",
            "3  40  45  20\n",
            "4  50  55  25\n"
          ]
        }
      ]
    },
    {
      "cell_type": "markdown",
      "source": [
        "Q10 -  Create a histogram using Seaborn to visualize a distribution Perform matrix multiplication using NumPy?"
      ],
      "metadata": {
        "id": "f0GdKKqNZC1C"
      }
    },
    {
      "cell_type": "code",
      "source": [
        "# Ans 10 -\n",
        "\n",
        "import seaborn as sns\n",
        "import matplotlib.pyplot as plt\n",
        "import numpy as np\n",
        "\n",
        "# Generate random data\n",
        "data = np.random.randn(1000)  # 1000 random numbers from a standard normal distribution\n",
        "\n",
        "# Create the histogram\n",
        "sns.histplot(data, kde=True)  # kde=True adds a kernel density estimate curve\n",
        "plt.title('Histogram of Random Data')\n",
        "plt.xlabel('Value')\n",
        "plt.ylabel('Frequency')\n",
        "\n",
        "# Display the plot\n",
        "plt.show()"
      ],
      "metadata": {
        "colab": {
          "base_uri": "https://localhost:8080/",
          "height": 472
        },
        "id": "hgtRFB7vZCAw",
        "outputId": "174d22cb-2436-434a-b516-11c083762fe2"
      },
      "execution_count": 4,
      "outputs": [
        {
          "output_type": "display_data",
          "data": {
            "text/plain": [
              "<Figure size 640x480 with 1 Axes>"
            ],
            "image/png": "[encoded data removed]"
          },
          "metadata": {}
        }
      ]
    },
    {
      "cell_type": "markdown",
      "source": [
        "Q11 - Perform matrix multiplication using NumPy?"
      ],
      "metadata": {
        "id": "1g-jReXVal2n"
      }
    },
    {
      "cell_type": "code",
      "source": [
        "# Ans 11\n",
        "\n",
        "import pandas as pd\n",
        "\n",
        "# Load the CSV file\n",
        "df = pd.read_csv('your_file.csv')\n",
        "\n",
        "# Display the first 5 rows\n",
        "print(df.head())"
      ],
      "metadata": {
        "id": "niV7lc8gakmr"
      },
      "execution_count": null,
      "outputs": []
    },
    {
      "cell_type": "markdown",
      "source": [
        "Q12 - Use Pandas to load a CSV file and display its first 5 rows?"
      ],
      "metadata": {
        "id": "XNv0cCgoakTO"
      }
    },
    {
      "cell_type": "code",
      "source": [
        "#Ans 12 -\n",
        "\n",
        "import pandas as pd\n",
        "\n",
        "# Load the CSV file\n",
        "df = pd.read_csv('your_file.csv')\n",
        "\n",
        "# Display the first 5 rows\n",
        "print(df.head())"
      ],
      "metadata": {
        "id": "AX1q__xldwI1"
      },
      "execution_count": null,
      "outputs": []
    },
    {
      "cell_type": "markdown",
      "source": [
        "Q13 - Create a 3D scatter plot using Plotly?"
      ],
      "metadata": {
        "id": "sl_N3uMrxsFF"
      }
    },
    {
      "cell_type": "code",
      "source": [
        "#Ans 13\n",
        "import plotly.express as px\n",
        "import pandas as pd\n",
        "import numpy as np\n",
        "\n",
        "# Create a DataFrame with random data\n",
        "np.random.seed(42)\n",
        "n = 100\n",
        "df = pd.DataFrame({\n",
        "    'x': np.random.randn(n),\n",
        "    'y': np.random.randn(n),\n",
        "    'z': np.random.randn(n),\n",
        "    'color': np.random.rand(n)  # Color for points\n",
        "})\n",
        "\n",
        "# Create the 3D scatter plot\n",
        "fig = px.scatter_3d(df, x='x', y='y', z='z', color='color', title=\"3D Scatter Plot\")\n",
        "fig.show()"
      ],
      "metadata": {
        "colab": {
          "base_uri": "https://localhost:8080/",
          "height": 542
        },
        "id": "R1fa8-NUeXwc",
        "outputId": "fd09676e-2b30-4b5c-fe27-2c446e019687"
      },
      "execution_count": 10,
      "outputs": [
        {
          "output_type": "display_data",
          "data": {
            "text/html": [
              "<html>\n",
              "<head><meta charset=\"utf-8\" /></head>\n",
              "<body>\n",
              "    <div>            <script src=\"https://cdnjs.cloudflare.com/ajax/libs/mathjax/2.7.5/MathJax.js?config=TeX-AMS-MML_SVG\"></script><script type=\"text/javascript\">if (window.MathJax && window.MathJax.Hub && window.MathJax.Hub.Config) {window.MathJax.Hub.Config({SVG: {font: \"STIX-Web\"}});}</script>                <script type=\"text/javascript\">window.PlotlyConfig = {MathJaxConfig: 'local'};</script>\n",
              "        <script charset=\"utf-8\" src=\"https://cdn.plot.ly/plotly-2.35.2.min.js\"></script>                <div id=\"cc7332a0-093b-44ea-b15e-c04167f238b2\" class=\"plotly-graph-div\" style=\"height:525px; width:100%;\"></div>            <script type=\"text/javascript\">                                    window.PLOTLYENV=window.PLOTLYENV || {};                                    if (document.getElementById(\"cc7332a0-093b-44ea-b15e-c04167f238b2\")) {                    Plotly.newPlot(                        \"cc7332a0-093b-44ea-b15e-c04167f238b2\",                        [{\"hovertemplate\":\"x=%{x}\\u003cbr\\u003ey=%{y}\\u003cbr\\u003ez=%{z}\\u003cbr\\u003ecolor=%{marker.color}\\u003cextra\\u003e\\u003c\\u002fextra\\u003e\",\"legendgroup\":\"\",\"marker\":{\"color\":[0.2820345725713065,0.17743954377972282,0.7506147516408583,0.806834739267264,0.9905051420006733,0.4126176769114265,0.37201808579278317,0.7764129607419968,0.34080354025301784,0.9307573256035647,0.8584127518430118,0.42899402737501835,0.7508710677914974,0.7545428740846823,0.10312386883593261,0.9025529066795667,0.5052523724478571,0.8264574661077416,0.32004960103061175,0.8955232284962005,0.3892016787341631,0.01083765148029836,0.9053819764192637,0.09128667678613356,0.31931363759041487,0.9500619670508049,0.9506071469375561,0.5734378881232861,0.6318372121697993,0.44844552197831977,0.29321077169806453,0.32866454536991596,0.6725184560770384,0.75237452943768,0.7915790437258485,0.7896181427945539,0.09120610304869037,0.49442030470258147,0.057558760016644284,0.5495288823237355,0.441530501373377,0.8877041827582998,0.3509150125520787,0.11706701642760586,0.14299168205283586,0.7615106317174722,0.6182180633162611,0.10112267612279024,0.08410680611499743,0.70096913145912,0.07276300636419353,0.8218600592903562,0.7062422271564962,0.08134878064189976,0.08483771408519192,0.9866395785011755,0.3742707957561203,0.3706421470668909,0.8127995672575026,0.9472485773838587,0.9860010638228709,0.7533781852589416,0.37625958553091576,0.08350071669866876,0.7771469159274368,0.558404249735805,0.4242220092469763,0.906354385094736,0.11119748230615134,0.49262510429085915,0.011353644767419069,0.46866064199412627,0.05630327568183735,0.11881791626807192,0.11752624677710488,0.6492103021160636,0.7460448792654233,0.5833687650971596,0.9621725484745419,0.37487057952370406,0.28571208628186073,0.8685991281894603,0.22359583851945264,0.9632225394406113,0.012154474689816341,0.969878826707639,0.04315991195057611,0.8911431136980711,0.5277011090862999,0.9929647961193003,0.07379656473539886,0.5538542844013208,0.969302535619099,0.5230978441701488,0.6293986381352625,0.6957486889846172,0.45454106476777323,0.6275580800840634,0.5843143119231002,0.901158010490989],\"coloraxis\":\"coloraxis\",\"symbol\":\"circle\"},\"mode\":\"markers\",\"name\":\"\",\"scene\":\"scene\",\"showlegend\":false,\"x\":[0.4967141530112327,-0.13826430117118466,0.6476885381006925,1.5230298564080254,-0.23415337472333597,-0.23413695694918055,1.5792128155073915,0.7674347291529088,-0.4694743859349521,0.5425600435859647,-0.46341769281246226,-0.46572975357025687,0.24196227156603412,-1.913280244657798,-1.7249178325130328,-0.5622875292409727,-1.0128311203344238,0.3142473325952739,-0.9080240755212109,-1.4123037013352915,1.465648768921554,-0.22577630048653566,0.06752820468792384,-1.4247481862134568,-0.5443827245251827,0.11092258970986608,-1.1509935774223028,0.37569801834567196,-0.600638689918805,-0.2916937497932768,-0.6017066122293969,1.8522781845089378,-0.013497224737933921,-1.0577109289559004,0.822544912103189,-1.2208436499710222,0.2088635950047554,-1.9596701238797756,-1.3281860488984305,0.19686123586912352,0.7384665799954104,0.1713682811899705,-0.11564828238824053,-0.3011036955892888,-1.4785219903674274,-0.7198442083947086,-0.4606387709597875,1.0571222262189157,0.3436182895684614,-1.763040155362734,0.324083969394795,-0.38508228041631654,-0.6769220003059587,0.6116762888408679,1.030999522495951,0.9312801191161986,-0.8392175232226385,-0.3092123758512146,0.33126343140356396,0.9755451271223592,-0.47917423784528995,-0.18565897666381712,-1.1063349740060282,-1.1962066240806708,0.812525822394198,1.356240028570823,-0.07201012158033385,1.0035328978920242,0.36163602504763415,-0.6451197546051243,0.36139560550841393,1.5380365664659692,-0.03582603910995154,1.5646436558140062,-2.6197451040897444,0.8219025043752238,0.08704706823817122,-0.29900735046586746,0.0917607765355023,-1.9875689146008928,-0.21967188783751193,0.3571125715117464,1.477894044741516,-0.5182702182736474,-0.8084936028931876,-0.5017570435845365,0.9154021177020741,0.32875110965968446,-0.5297602037670388,0.5132674331133561,0.09707754934804039,0.9686449905328892,-0.7020530938773524,-0.3276621465977682,-0.39210815313215763,-1.4635149481321186,0.29612027706457605,0.26105527217988933,0.00511345664246089,-0.23458713337514692],\"y\":[-1.4153707420504142,-0.42064532276535904,-0.3427145165267695,-0.8022772692216189,-0.16128571166600914,0.4040508568145384,1.8861859012105302,0.17457781283183896,0.25755039072276437,-0.07444591576616721,-1.9187712152990415,-0.026513875449216878,0.06023020994102644,2.463242112485286,-0.19236096478112252,0.30154734233361247,-0.03471176970524331,-1.168678037619532,1.1428228145150205,0.7519330326867741,0.7910319470430469,-0.9093874547947389,1.4027943109360992,-1.4018510627922809,0.5868570938002703,2.1904556258099785,-0.9905363251306883,-0.5662977296027719,0.09965136508764122,-0.5034756541161992,-1.5506634310661327,0.06856297480602733,-1.0623037137261049,0.4735924306351816,-0.9194242342338032,1.5499344050175394,-0.7832532923362371,-0.3220615162056756,0.8135172173696698,-1.2308643164339552,0.22745993460412942,1.307142754282428,-1.6074832345612275,0.1846338585323042,0.25988279424842353,0.7818228717773104,-1.236950710878082,-1.3204566130842763,0.5219415656168976,0.29698467323318606,0.25049285034587654,0.3464482094969757,-0.6800247215784908,0.23225369716100355,0.29307247329868125,-0.7143514180263678,1.8657745111447566,0.4738329209117875,-1.1913034972026486,0.6565536086338297,-0.9746816702273214,0.787084603742452,1.158595579007404,-0.8206823183517105,0.9633761292443218,0.4127809269364983,0.82206015999449,1.8967929826539474,-0.2453881160028705,-0.7537361643574896,-0.8895144296255233,-0.8158102849654383,-0.0771017094141042,0.3411519748166439,0.27669079933001905,0.8271832490360238,0.01300189187790702,1.4535340771573169,-0.2646568332379561,2.720169166589619,0.6256673477650062,-0.8571575564162826,-1.0708924980611123,0.4824724152431853,-0.2234627853258509,0.714000494092092,0.47323762457354485,-0.07282891265687277,-0.846793718068405,-1.5148472246858646,-0.4465149520670211,0.8563987943234723,0.21409374413020396,-1.245738778711988,0.173180925851182,0.3853173797288368,-0.883857436201133,0.1537251059455279,0.058208718445999896,-1.142970297830623],\"z\":[0.3577873603482833,0.5607845263682344,1.083051243175277,1.053802052034903,-1.377669367957091,-0.9378250399151228,0.5150352672086598,0.5137859509122088,0.5150476863060479,3.852731490654721,0.570890510693167,1.135565640180599,0.9540017634932023,0.651391251305798,-0.3152692446403456,0.7589692204932674,-0.7728252145375718,-0.23681860674000887,-0.48536354782910346,0.08187413938632256,2.3146585666735087,-1.867265192591748,0.6862601903745135,-1.6127158711896517,-0.47193186578943347,1.088950596967366,0.06428001909546277,-1.0777447779293061,-0.7153037092599682,0.6795977489346758,-0.7303666317171367,0.21645858958197486,0.045571839903813784,-0.6516003476058171,2.1439440893253257,0.6339190223180112,-2.025142586657607,0.18645431476942764,-0.661786464768388,0.852433334796224,-0.7925207384327007,-0.11473644146689901,0.5049872789804571,0.8657551941701215,-1.2002964070557762,-0.3345012358409484,-0.4749453111609562,-0.6533292325737119,1.7654542402810969,0.40498171096095553,-1.2608839543350452,0.9178619470547761,2.1221561970126332,1.0324652605511468,-1.5193699659540134,-0.48423407286625136,1.2669111491866227,-0.7076694656187807,0.44381942814622843,0.7746340534293368,-0.926930471578083,-0.05952535606180008,-3.2412673400690726,-1.0243876413342898,-0.2525681513931603,-1.2477831819648495,1.6324113039316352,-1.4301413779606327,-0.44004448669698376,0.13074057728609134,1.4412732890661155,-1.4358621511794394,1.1631637521549596,0.010233061019587049,-0.9815086510479509,0.46210347426327075,0.19905969557347003,-0.6002168771587947,0.06980208499001891,-0.3853135968617602,0.11351734525124804,0.6621306745210467,1.586016816145352,-1.237815498826849,2.1330333746562666,-1.9520877995225019,-0.15178509503558332,0.5883172064845765,0.28099186773503265,-0.6226995198205938,-0.20812225035727522,-0.4930009346588328,-0.5893647569442115,0.8496020970210246,0.35701548596504734,-0.6929095952606542,0.8995998754332507,0.30729952087660933,0.8128621188389601,0.6296288419236122],\"type\":\"scatter3d\"}],                        {\"template\":{\"data\":{\"histogram2dcontour\":[{\"type\":\"histogram2dcontour\",\"colorbar\":{\"outlinewidth\":0,\"ticks\":\"\"},\"colorscale\":[[0.0,\"#0d0887\"],[0.1111111111111111,\"#46039f\"],[0.2222222222222222,\"#7201a8\"],[0.3333333333333333,\"#9c179e\"],[0.4444444444444444,\"#bd3786\"],[0.5555555555555556,\"#d8576b\"],[0.6666666666666666,\"#ed7953\"],[0.7777777777777778,\"#fb9f3a\"],[0.8888888888888888,\"#fdca26\"],[1.0,\"#f0f921\"]]}],\"choropleth\":[{\"type\":\"choropleth\",\"colorbar\":{\"outlinewidth\":0,\"ticks\":\"\"}}],\"histogram2d\":[{\"type\":\"histogram2d\",\"colorbar\":{\"outlinewidth\":0,\"ticks\":\"\"},\"colorscale\":[[0.0,\"#0d0887\"],[0.1111111111111111,\"#46039f\"],[0.2222222222222222,\"#7201a8\"],[0.3333333333333333,\"#9c179e\"],[0.4444444444444444,\"#bd3786\"],[0.5555555555555556,\"#d8576b\"],[0.6666666666666666,\"#ed7953\"],[0.7777777777777778,\"#fb9f3a\"],[0.8888888888888888,\"#fdca26\"],[1.0,\"#f0f921\"]]}],\"heatmap\":[{\"type\":\"heatmap\",\"colorbar\":{\"outlinewidth\":0,\"ticks\":\"\"},\"colorscale\":[[0.0,\"#0d0887\"],[0.1111111111111111,\"#46039f\"],[0.2222222222222222,\"#7201a8\"],[0.3333333333333333,\"#9c179e\"],[0.4444444444444444,\"#bd3786\"],[0.5555555555555556,\"#d8576b\"],[0.6666666666666666,\"#ed7953\"],[0.7777777777777778,\"#fb9f3a\"],[0.8888888888888888,\"#fdca26\"],[1.0,\"#f0f921\"]]}],\"heatmapgl\":[{\"type\":\"heatmapgl\",\"colorbar\":{\"outlinewidth\":0,\"ticks\":\"\"},\"colorscale\":[[0.0,\"#0d0887\"],[0.1111111111111111,\"#46039f\"],[0.2222222222222222,\"#7201a8\"],[0.3333333333333333,\"#9c179e\"],[0.4444444444444444,\"#bd3786\"],[0.5555555555555556,\"#d8576b\"],[0.6666666666666666,\"#ed7953\"],[0.7777777777777778,\"#fb9f3a\"],[0.8888888888888888,\"#fdca26\"],[1.0,\"#f0f921\"]]}],\"contourcarpet\":[{\"type\":\"contourcarpet\",\"colorbar\":{\"outlinewidth\":0,\"ticks\":\"\"}}],\"contour\":[{\"type\":\"contour\",\"colorbar\":{\"outlinewidth\":0,\"ticks\":\"\"},\"colorscale\":[[0.0,\"#0d0887\"],[0.1111111111111111,\"#46039f\"],[0.2222222222222222,\"#7201a8\"],[0.3333333333333333,\"#9c179e\"],[0.4444444444444444,\"#bd3786\"],[0.5555555555555556,\"#d8576b\"],[0.6666666666666666,\"#ed7953\"],[0.7777777777777778,\"#fb9f3a\"],[0.8888888888888888,\"#fdca26\"],[1.0,\"#f0f921\"]]}],\"surface\":[{\"type\":\"surface\",\"colorbar\":{\"outlinewidth\":0,\"ticks\":\"\"},\"colorscale\":[[0.0,\"#0d0887\"],[0.1111111111111111,\"#46039f\"],[0.2222222222222222,\"#7201a8\"],[0.3333333333333333,\"#9c179e\"],[0.4444444444444444,\"#bd3786\"],[0.5555555555555556,\"#d8576b\"],[0.6666666666666666,\"#ed7953\"],[0.7777777777777778,\"#fb9f3a\"],[0.8888888888888888,\"#fdca26\"],[1.0,\"#f0f921\"]]}],\"mesh3d\":[{\"type\":\"mesh3d\",\"colorbar\":{\"outlinewidth\":0,\"ticks\":\"\"}}],\"scatter\":[{\"fillpattern\":{\"fillmode\":\"overlay\",\"size\":10,\"solidity\":0.2},\"type\":\"scatter\"}],\"parcoords\":[{\"type\":\"parcoords\",\"line\":{\"colorbar\":{\"outlinewidth\":0,\"ticks\":\"\"}}}],\"scatterpolargl\":[{\"type\":\"scatterpolargl\",\"marker\":{\"colorbar\":{\"outlinewidth\":0,\"ticks\":\"\"}}}],\"bar\":[{\"error_x\":{\"color\":\"#2a3f5f\"},\"error_y\":{\"color\":\"#2a3f5f\"},\"marker\":{\"line\":{\"color\":\"#E5ECF6\",\"width\":0.5},\"pattern\":{\"fillmode\":\"overlay\",\"size\":10,\"solidity\":0.2}},\"type\":\"bar\"}],\"scattergeo\":[{\"type\":\"scattergeo\",\"marker\":{\"colorbar\":{\"outlinewidth\":0,\"ticks\":\"\"}}}],\"scatterpolar\":[{\"type\":\"scatterpolar\",\"marker\":{\"colorbar\":{\"outlinewidth\":0,\"ticks\":\"\"}}}],\"histogram\":[{\"marker\":{\"pattern\":{\"fillmode\":\"overlay\",\"size\":10,\"solidity\":0.2}},\"type\":\"histogram\"}],\"scattergl\":[{\"type\":\"scattergl\",\"marker\":{\"colorbar\":{\"outlinewidth\":0,\"ticks\":\"\"}}}],\"scatter3d\":[{\"type\":\"scatter3d\",\"line\":{\"colorbar\":{\"outlinewidth\":0,\"ticks\":\"\"}},\"marker\":{\"colorbar\":{\"outlinewidth\":0,\"ticks\":\"\"}}}],\"scattermapbox\":[{\"type\":\"scattermapbox\",\"marker\":{\"colorbar\":{\"outlinewidth\":0,\"ticks\":\"\"}}}],\"scatterternary\":[{\"type\":\"scatterternary\",\"marker\":{\"colorbar\":{\"outlinewidth\":0,\"ticks\":\"\"}}}],\"scattercarpet\":[{\"type\":\"scattercarpet\",\"marker\":{\"colorbar\":{\"outlinewidth\":0,\"ticks\":\"\"}}}],\"carpet\":[{\"aaxis\":{\"endlinecolor\":\"#2a3f5f\",\"gridcolor\":\"white\",\"linecolor\":\"white\",\"minorgridcolor\":\"white\",\"startlinecolor\":\"#2a3f5f\"},\"baxis\":{\"endlinecolor\":\"#2a3f5f\",\"gridcolor\":\"white\",\"linecolor\":\"white\",\"minorgridcolor\":\"white\",\"startlinecolor\":\"#2a3f5f\"},\"type\":\"carpet\"}],\"table\":[{\"cells\":{\"fill\":{\"color\":\"#EBF0F8\"},\"line\":{\"color\":\"white\"}},\"header\":{\"fill\":{\"color\":\"#C8D4E3\"},\"line\":{\"color\":\"white\"}},\"type\":\"table\"}],\"barpolar\":[{\"marker\":{\"line\":{\"color\":\"#E5ECF6\",\"width\":0.5},\"pattern\":{\"fillmode\":\"overlay\",\"size\":10,\"solidity\":0.2}},\"type\":\"barpolar\"}],\"pie\":[{\"automargin\":true,\"type\":\"pie\"}]},\"layout\":{\"autotypenumbers\":\"strict\",\"colorway\":[\"#636efa\",\"#EF553B\",\"#00cc96\",\"#ab63fa\",\"#FFA15A\",\"#19d3f3\",\"#FF6692\",\"#B6E880\",\"#FF97FF\",\"#FECB52\"],\"font\":{\"color\":\"#2a3f5f\"},\"hovermode\":\"closest\",\"hoverlabel\":{\"align\":\"left\"},\"paper_bgcolor\":\"white\",\"plot_bgcolor\":\"#E5ECF6\",\"polar\":{\"bgcolor\":\"#E5ECF6\",\"angularaxis\":{\"gridcolor\":\"white\",\"linecolor\":\"white\",\"ticks\":\"\"},\"radialaxis\":{\"gridcolor\":\"white\",\"linecolor\":\"white\",\"ticks\":\"\"}},\"ternary\":{\"bgcolor\":\"#E5ECF6\",\"aaxis\":{\"gridcolor\":\"white\",\"linecolor\":\"white\",\"ticks\":\"\"},\"baxis\":{\"gridcolor\":\"white\",\"linecolor\":\"white\",\"ticks\":\"\"},\"caxis\":{\"gridcolor\":\"white\",\"linecolor\":\"white\",\"ticks\":\"\"}},\"coloraxis\":{\"colorbar\":{\"outlinewidth\":0,\"ticks\":\"\"}},\"colorscale\":{\"sequential\":[[0.0,\"#0d0887\"],[0.1111111111111111,\"#46039f\"],[0.2222222222222222,\"#7201a8\"],[0.3333333333333333,\"#9c179e\"],[0.4444444444444444,\"#bd3786\"],[0.5555555555555556,\"#d8576b\"],[0.6666666666666666,\"#ed7953\"],[0.7777777777777778,\"#fb9f3a\"],[0.8888888888888888,\"#fdca26\"],[1.0,\"#f0f921\"]],\"sequentialminus\":[[0.0,\"#0d0887\"],[0.1111111111111111,\"#46039f\"],[0.2222222222222222,\"#7201a8\"],[0.3333333333333333,\"#9c179e\"],[0.4444444444444444,\"#bd3786\"],[0.5555555555555556,\"#d8576b\"],[0.6666666666666666,\"#ed7953\"],[0.7777777777777778,\"#fb9f3a\"],[0.8888888888888888,\"#fdca26\"],[1.0,\"#f0f921\"]],\"diverging\":[[0,\"#8e0152\"],[0.1,\"#c51b7d\"],[0.2,\"#de77ae\"],[0.3,\"#f1b6da\"],[0.4,\"#fde0ef\"],[0.5,\"#f7f7f7\"],[0.6,\"#e6f5d0\"],[0.7,\"#b8e186\"],[0.8,\"#7fbc41\"],[0.9,\"#4d9221\"],[1,\"#276419\"]]},\"xaxis\":{\"gridcolor\":\"white\",\"linecolor\":\"white\",\"ticks\":\"\",\"title\":{\"standoff\":15},\"zerolinecolor\":\"white\",\"automargin\":true,\"zerolinewidth\":2},\"yaxis\":{\"gridcolor\":\"white\",\"linecolor\":\"white\",\"ticks\":\"\",\"title\":{\"standoff\":15},\"zerolinecolor\":\"white\",\"automargin\":true,\"zerolinewidth\":2},\"scene\":{\"xaxis\":{\"backgroundcolor\":\"#E5ECF6\",\"gridcolor\":\"white\",\"linecolor\":\"white\",\"showbackground\":true,\"ticks\":\"\",\"zerolinecolor\":\"white\",\"gridwidth\":2},\"yaxis\":{\"backgroundcolor\":\"#E5ECF6\",\"gridcolor\":\"white\",\"linecolor\":\"white\",\"showbackground\":true,\"ticks\":\"\",\"zerolinecolor\":\"white\",\"gridwidth\":2},\"zaxis\":{\"backgroundcolor\":\"#E5ECF6\",\"gridcolor\":\"white\",\"linecolor\":\"white\",\"showbackground\":true,\"ticks\":\"\",\"zerolinecolor\":\"white\",\"gridwidth\":2}},\"shapedefaults\":{\"line\":{\"color\":\"#2a3f5f\"}},\"annotationdefaults\":{\"arrowcolor\":\"#2a3f5f\",\"arrowhead\":0,\"arrowwidth\":1},\"geo\":{\"bgcolor\":\"white\",\"landcolor\":\"#E5ECF6\",\"subunitcolor\":\"white\",\"showland\":true,\"showlakes\":true,\"lakecolor\":\"white\"},\"title\":{\"x\":0.05},\"mapbox\":{\"style\":\"light\"}}},\"scene\":{\"domain\":{\"x\":[0.0,1.0],\"y\":[0.0,1.0]},\"xaxis\":{\"title\":{\"text\":\"x\"}},\"yaxis\":{\"title\":{\"text\":\"y\"}},\"zaxis\":{\"title\":{\"text\":\"z\"}}},\"coloraxis\":{\"colorbar\":{\"title\":{\"text\":\"color\"}},\"colorscale\":[[0.0,\"#0d0887\"],[0.1111111111111111,\"#46039f\"],[0.2222222222222222,\"#7201a8\"],[0.3333333333333333,\"#9c179e\"],[0.4444444444444444,\"#bd3786\"],[0.5555555555555556,\"#d8576b\"],[0.6666666666666666,\"#ed7953\"],[0.7777777777777778,\"#fb9f3a\"],[0.8888888888888888,\"#fdca26\"],[1.0,\"#f0f921\"]]},\"legend\":{\"tracegroupgap\":0},\"title\":{\"text\":\"3D Scatter Plot\"}},                        {\"responsive\": true}                    ).then(function(){\n",
              "                            \n",
              "var gd = document.getElementById('cc7332a0-093b-44ea-b15e-c04167f238b2');\n",
              "var x = new MutationObserver(function (mutations, observer) {{\n",
              "        var display = window.getComputedStyle(gd).display;\n",
              "        if (!display || display === 'none') {{\n",
              "            console.log([gd, 'removed!']);\n",
              "            Plotly.purge(gd);\n",
              "            observer.disconnect();\n",
              "        }}\n",
              "}});\n",
              "\n",
              "// Listen for the removal of the full notebook cells\n",
              "var notebookContainer = gd.closest('#notebook-container');\n",
              "if (notebookContainer) {{\n",
              "    x.observe(notebookContainer, {childList: true});\n",
              "}}\n",
              "\n",
              "// Listen for the clearing of the current output cell\n",
              "var outputEl = gd.closest('.output');\n",
              "if (outputEl) {{\n",
              "    x.observe(outputEl, {childList: true});\n",
              "}}\n",
              "\n",
              "                        })                };                            </script>        </div>\n",
              "</body>\n",
              "</html>"
            ]
          },
          "metadata": {}
        }
      ]
    }
  ]
}